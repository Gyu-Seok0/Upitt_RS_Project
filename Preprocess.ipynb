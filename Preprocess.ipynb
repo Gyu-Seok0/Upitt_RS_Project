{
 "cells": [
  {
   "cell_type": "code",
   "execution_count": 1,
   "id": "9ed7d053",
   "metadata": {},
   "outputs": [
    {
     "name": "stdout",
     "output_type": "stream",
     "text": [
      "Cloning into 'Concept-Extraction'...\n",
      "remote: Enumerating objects: 266, done.\u001b[K\n",
      "remote: Counting objects: 100% (266/266), done.\u001b[K\n",
      "remote: Compressing objects: 100% (205/205), done.\u001b[K\n",
      "remote: Total 266 (delta 57), reused 259 (delta 52), pack-reused 0\u001b[K\n",
      "Receiving objects: 100% (266/266), 13.98 MiB | 16.47 MiB/s, done.\n",
      "Resolving deltas: 100% (57/57), done.\n"
     ]
    }
   ],
   "source": [
    "#!git clone https://github.com/PAWSLabUniversityOfPittsburgh/Concept-Extraction.git"
   ]
  },
  {
   "cell_type": "markdown",
   "id": "e85271c1",
   "metadata": {},
   "source": [
    "# Example for just one case"
   ]
  },
  {
   "cell_type": "code",
   "execution_count": 80,
   "id": "9e1b5d27",
   "metadata": {},
   "outputs": [],
   "source": [
    "import os\n",
    "import pandas as pd\n",
    "\n",
    "path = \"./Concept-Extraction/IIR-dataset/annotation\""
   ]
  },
  {
   "cell_type": "code",
   "execution_count": 81,
   "id": "98534b57",
   "metadata": {},
   "outputs": [
    {
     "data": {
      "text/html": [
       "<div>\n",
       "<style scoped>\n",
       "    .dataframe tbody tr th:only-of-type {\n",
       "        vertical-align: middle;\n",
       "    }\n",
       "\n",
       "    .dataframe tbody tr th {\n",
       "        vertical-align: top;\n",
       "    }\n",
       "\n",
       "    .dataframe thead th {\n",
       "        text-align: right;\n",
       "    }\n",
       "</style>\n",
       "<table border=\"1\" class=\"dataframe\">\n",
       "  <thead>\n",
       "    <tr style=\"text-align: right;\">\n",
       "      <th></th>\n",
       "      <th>Concepts</th>\n",
       "      <th>Annotator 1</th>\n",
       "      <th>Annotator 2</th>\n",
       "      <th>Annotator 3</th>\n",
       "    </tr>\n",
       "  </thead>\n",
       "  <tbody>\n",
       "    <tr>\n",
       "      <th>0</th>\n",
       "      <td>['language models', 'language model']</td>\n",
       "      <td>1</td>\n",
       "      <td>1</td>\n",
       "      <td>1</td>\n",
       "    </tr>\n",
       "    <tr>\n",
       "      <th>1</th>\n",
       "      <td>['information retrieval']</td>\n",
       "      <td>1</td>\n",
       "      <td>1</td>\n",
       "      <td>1</td>\n",
       "    </tr>\n",
       "    <tr>\n",
       "      <th>2</th>\n",
       "      <td>['queries', 'query']</td>\n",
       "      <td>1</td>\n",
       "      <td>1</td>\n",
       "      <td>1</td>\n",
       "    </tr>\n",
       "    <tr>\n",
       "      <th>3</th>\n",
       "      <td>['relevant document']</td>\n",
       "      <td>1</td>\n",
       "      <td>1</td>\n",
       "      <td>1</td>\n",
       "    </tr>\n",
       "    <tr>\n",
       "      <th>4</th>\n",
       "      <td>['language modeling approach']</td>\n",
       "      <td>1</td>\n",
       "      <td>1</td>\n",
       "      <td>1</td>\n",
       "    </tr>\n",
       "  </tbody>\n",
       "</table>\n",
       "</div>"
      ],
      "text/plain": [
       "                                Concepts  Annotator 1  Annotator 2  \\\n",
       "0  ['language models', 'language model']            1            1   \n",
       "1              ['information retrieval']            1            1   \n",
       "2                   ['queries', 'query']            1            1   \n",
       "3                  ['relevant document']            1            1   \n",
       "4         ['language modeling approach']            1            1   \n",
       "\n",
       "   Annotator 3  \n",
       "0            1  \n",
       "1            1  \n",
       "2            1  \n",
       "3            1  \n",
       "4            1  "
      ]
     },
     "execution_count": 81,
     "metadata": {},
     "output_type": "execute_result"
    }
   ],
   "source": [
    "csv_file_name = os.listdir(path)[0]\n",
    "df = pd.read_csv(os.path.join(path, csv_file_name))\n",
    "df.head()"
   ]
  },
  {
   "cell_type": "code",
   "execution_count": 82,
   "id": "4d33bad9",
   "metadata": {},
   "outputs": [
    {
     "data": {
      "text/html": [
       "<div>\n",
       "<style scoped>\n",
       "    .dataframe tbody tr th:only-of-type {\n",
       "        vertical-align: middle;\n",
       "    }\n",
       "\n",
       "    .dataframe tbody tr th {\n",
       "        vertical-align: top;\n",
       "    }\n",
       "\n",
       "    .dataframe thead th {\n",
       "        text-align: right;\n",
       "    }\n",
       "</style>\n",
       "<table border=\"1\" class=\"dataframe\">\n",
       "  <thead>\n",
       "    <tr style=\"text-align: right;\">\n",
       "      <th></th>\n",
       "      <th>Concepts</th>\n",
       "      <th>Annotator 1</th>\n",
       "      <th>Annotator 2</th>\n",
       "      <th>Annotator 3</th>\n",
       "      <th>sum</th>\n",
       "    </tr>\n",
       "  </thead>\n",
       "  <tbody>\n",
       "    <tr>\n",
       "      <th>0</th>\n",
       "      <td>['language models', 'language model']</td>\n",
       "      <td>1</td>\n",
       "      <td>1</td>\n",
       "      <td>1</td>\n",
       "      <td>3</td>\n",
       "    </tr>\n",
       "    <tr>\n",
       "      <th>1</th>\n",
       "      <td>['information retrieval']</td>\n",
       "      <td>1</td>\n",
       "      <td>1</td>\n",
       "      <td>1</td>\n",
       "      <td>3</td>\n",
       "    </tr>\n",
       "    <tr>\n",
       "      <th>2</th>\n",
       "      <td>['queries', 'query']</td>\n",
       "      <td>1</td>\n",
       "      <td>1</td>\n",
       "      <td>1</td>\n",
       "      <td>3</td>\n",
       "    </tr>\n",
       "    <tr>\n",
       "      <th>3</th>\n",
       "      <td>['relevant document']</td>\n",
       "      <td>1</td>\n",
       "      <td>1</td>\n",
       "      <td>1</td>\n",
       "      <td>3</td>\n",
       "    </tr>\n",
       "    <tr>\n",
       "      <th>4</th>\n",
       "      <td>['language modeling approach']</td>\n",
       "      <td>1</td>\n",
       "      <td>1</td>\n",
       "      <td>1</td>\n",
       "      <td>3</td>\n",
       "    </tr>\n",
       "  </tbody>\n",
       "</table>\n",
       "</div>"
      ],
      "text/plain": [
       "                                Concepts  Annotator 1  Annotator 2  \\\n",
       "0  ['language models', 'language model']            1            1   \n",
       "1              ['information retrieval']            1            1   \n",
       "2                   ['queries', 'query']            1            1   \n",
       "3                  ['relevant document']            1            1   \n",
       "4         ['language modeling approach']            1            1   \n",
       "\n",
       "   Annotator 3  sum  \n",
       "0            1    3  \n",
       "1            1    3  \n",
       "2            1    3  \n",
       "3            1    3  \n",
       "4            1    3  "
      ]
     },
     "execution_count": 82,
     "metadata": {},
     "output_type": "execute_result"
    }
   ],
   "source": [
    "df[\"sum\"] = df.iloc[:,1:].sum(axis = 1)\n",
    "df.head()"
   ]
  },
  {
   "cell_type": "code",
   "execution_count": 83,
   "id": "e32ebe41",
   "metadata": {},
   "outputs": [],
   "source": [
    "# \"['A','B','C','D']\" -> ['A','B','C','D']\n",
    "df[\"Concepts\"] = df[\"Concepts\"].apply(lambda x: ast.literal_eval(x))"
   ]
  },
  {
   "cell_type": "code",
   "execution_count": 88,
   "id": "31c124b8",
   "metadata": {},
   "outputs": [],
   "source": [
    "csv_keywords_df = pd.DataFrame(columns = [\"csv_file\", \"keywords\"])\n",
    "\n",
    "keywords = []\n",
    "for row in df.itertuples():\n",
    "    if row.sum >= 2:\n",
    "        keywords += row.Concepts\n",
    "\n",
    "\n",
    "csv_keywords_df.loc[len(csv_keywords_df)] = [csv_file_name, keywords]"
   ]
  },
  {
   "cell_type": "code",
   "execution_count": 101,
   "id": "b3cf3df0",
   "metadata": {},
   "outputs": [
    {
     "data": {
      "text/html": [
       "<div>\n",
       "<style scoped>\n",
       "    .dataframe tbody tr th:only-of-type {\n",
       "        vertical-align: middle;\n",
       "    }\n",
       "\n",
       "    .dataframe tbody tr th {\n",
       "        vertical-align: top;\n",
       "    }\n",
       "\n",
       "    .dataframe thead th {\n",
       "        text-align: right;\n",
       "    }\n",
       "</style>\n",
       "<table border=\"1\" class=\"dataframe\">\n",
       "  <thead>\n",
       "    <tr style=\"text-align: right;\">\n",
       "      <th></th>\n",
       "      <th>csv_file</th>\n",
       "      <th>keywords</th>\n",
       "    </tr>\n",
       "  </thead>\n",
       "  <tbody>\n",
       "    <tr>\n",
       "      <th>0</th>\n",
       "      <td>iir-12.1.1.csv</td>\n",
       "      <td>[language models, language model, information ...</td>\n",
       "    </tr>\n",
       "  </tbody>\n",
       "</table>\n",
       "</div>"
      ],
      "text/plain": [
       "         csv_file                                           keywords\n",
       "0  iir-12.1.1.csv  [language models, language model, information ..."
      ]
     },
     "execution_count": 101,
     "metadata": {},
     "output_type": "execute_result"
    }
   ],
   "source": [
    "csv_keywords_df.head()"
   ]
  },
  {
   "cell_type": "markdown",
   "id": "091ac328",
   "metadata": {},
   "source": [
    "# Real Code"
   ]
  },
  {
   "cell_type": "code",
   "execution_count": 69,
   "id": "8ccbb38c",
   "metadata": {},
   "outputs": [],
   "source": [
    "def correct_error(error_df):\n",
    "    error_df_keywords = []\n",
    "    for row in error_df.itertuples():\n",
    "        if row.sum >= 2:\n",
    "            try:\n",
    "                error_df_keywords += ast.literal_eval(row.Concepts)\n",
    "            except:\n",
    "                print(f\"{row.Concepts} has error, so it can be just ignored\")\n",
    "    \n",
    "    return error_df_keywords"
   ]
  },
  {
   "cell_type": "code",
   "execution_count": 86,
   "id": "360b52d0",
   "metadata": {},
   "outputs": [
    {
     "name": "stdout",
     "output_type": "stream",
     "text": [
      "Error in iir-9.1.csv\n",
      "['nonrelevant document's vector'] has error, so it can be just ignored\n"
     ]
    }
   ],
   "source": [
    "import os\n",
    "import pandas as pd\n",
    "import ast\n",
    "\n",
    "path = \"./Concept-Extraction/IIR-dataset/annotation\"\n",
    "csv_keywords_df = pd.DataFrame(columns = [\"csv_file\", \"keywords\"]) # final result\n",
    "error_csv_files = []\n",
    "\n",
    "for csv_file_name in os.listdir(path):\n",
    "    \n",
    "    # df\n",
    "    df = pd.read_csv(os.path.join(path, csv_file_name))\n",
    "    df[\"sum\"] = df.iloc[:,1:].sum(axis = 1)\n",
    "    keywords = []\n",
    "\n",
    "    try:\n",
    "        df[\"Concepts\"] = df[\"Concepts\"].apply(lambda x: ast.literal_eval(x))\n",
    "        for row in df.itertuples():\n",
    "            if row.sum >= 2:\n",
    "                keywords += row.Concepts\n",
    "    except:\n",
    "        print(f\"Error in {csv_file_name}\")\n",
    "        keywords = correct_error(df)\n",
    "    \n",
    "    keywords = list(map(lambda x: x.title(), keywords)) # 'language models' -> 'Language Models'\n",
    "    \n",
    "    csv_keywords_df.loc[len(csv_keywords_df)] = [csv_file_name, keywords]"
   ]
  },
  {
   "cell_type": "code",
   "execution_count": 89,
   "id": "3a5fb638",
   "metadata": {},
   "outputs": [],
   "source": [
    "csv_keywords_df.to_csv(\"csv_keywords_df.csv\", index = False)"
   ]
  },
  {
   "cell_type": "code",
   "execution_count": 90,
   "id": "7fff2f2b",
   "metadata": {},
   "outputs": [
    {
     "data": {
      "text/html": [
       "<div>\n",
       "<style scoped>\n",
       "    .dataframe tbody tr th:only-of-type {\n",
       "        vertical-align: middle;\n",
       "    }\n",
       "\n",
       "    .dataframe tbody tr th {\n",
       "        vertical-align: top;\n",
       "    }\n",
       "\n",
       "    .dataframe thead th {\n",
       "        text-align: right;\n",
       "    }\n",
       "</style>\n",
       "<table border=\"1\" class=\"dataframe\">\n",
       "  <thead>\n",
       "    <tr style=\"text-align: right;\">\n",
       "      <th></th>\n",
       "      <th>csv_file</th>\n",
       "      <th>keywords</th>\n",
       "    </tr>\n",
       "  </thead>\n",
       "  <tbody>\n",
       "    <tr>\n",
       "      <th>0</th>\n",
       "      <td>iir-12.1.1.csv</td>\n",
       "      <td>['Language Models', 'Language Model', 'Informa...</td>\n",
       "    </tr>\n",
       "    <tr>\n",
       "      <th>1</th>\n",
       "      <td>iir-4.6.csv</td>\n",
       "      <td>['Nonpositional Indexes', 'Nonpositional Index...</td>\n",
       "    </tr>\n",
       "    <tr>\n",
       "      <th>2</th>\n",
       "      <td>iir-6.csv</td>\n",
       "      <td>['Scoring', 'Term Weighting', 'Vector Space Mo...</td>\n",
       "    </tr>\n",
       "    <tr>\n",
       "      <th>3</th>\n",
       "      <td>iir-14.2.csv</td>\n",
       "      <td>['Rocchio Classification', 'Decision Boundarie...</td>\n",
       "    </tr>\n",
       "    <tr>\n",
       "      <th>4</th>\n",
       "      <td>iir-8.1.csv</td>\n",
       "      <td>['Document Collection', 'Information Needs', '...</td>\n",
       "    </tr>\n",
       "    <tr>\n",
       "      <th>...</th>\n",
       "      <td>...</td>\n",
       "      <td>...</td>\n",
       "    </tr>\n",
       "    <tr>\n",
       "      <th>81</th>\n",
       "      <td>iir-13.1.csv</td>\n",
       "      <td>['Text Classification Problem', 'Document Spac...</td>\n",
       "    </tr>\n",
       "    <tr>\n",
       "      <th>82</th>\n",
       "      <td>iir-1.4.csv</td>\n",
       "      <td>['Boolean Retrieval Model', 'Ranked Retrieval ...</td>\n",
       "    </tr>\n",
       "    <tr>\n",
       "      <th>83</th>\n",
       "      <td>iir-11.2.csv</td>\n",
       "      <td>['Probability Ranking Principle', 'Collection ...</td>\n",
       "    </tr>\n",
       "    <tr>\n",
       "      <th>84</th>\n",
       "      <td>iir-4.1.csv</td>\n",
       "      <td>['Index Construction', 'Inverted Index', 'Inde...</td>\n",
       "    </tr>\n",
       "    <tr>\n",
       "      <th>85</th>\n",
       "      <td>iir-7.3.csv</td>\n",
       "      <td>['Vector Space Scoring', 'Vector Space Score',...</td>\n",
       "    </tr>\n",
       "  </tbody>\n",
       "</table>\n",
       "<p>86 rows × 2 columns</p>\n",
       "</div>"
      ],
      "text/plain": [
       "          csv_file                                           keywords\n",
       "0   iir-12.1.1.csv  ['Language Models', 'Language Model', 'Informa...\n",
       "1      iir-4.6.csv  ['Nonpositional Indexes', 'Nonpositional Index...\n",
       "2        iir-6.csv  ['Scoring', 'Term Weighting', 'Vector Space Mo...\n",
       "3     iir-14.2.csv  ['Rocchio Classification', 'Decision Boundarie...\n",
       "4      iir-8.1.csv  ['Document Collection', 'Information Needs', '...\n",
       "..             ...                                                ...\n",
       "81    iir-13.1.csv  ['Text Classification Problem', 'Document Spac...\n",
       "82     iir-1.4.csv  ['Boolean Retrieval Model', 'Ranked Retrieval ...\n",
       "83    iir-11.2.csv  ['Probability Ranking Principle', 'Collection ...\n",
       "84     iir-4.1.csv  ['Index Construction', 'Inverted Index', 'Inde...\n",
       "85     iir-7.3.csv  ['Vector Space Scoring', 'Vector Space Score',...\n",
       "\n",
       "[86 rows x 2 columns]"
      ]
     },
     "execution_count": 90,
     "metadata": {},
     "output_type": "execute_result"
    }
   ],
   "source": [
    "pd.read_csv(\"csv_keywords_df.csv\")"
   ]
  },
  {
   "cell_type": "code",
   "execution_count": null,
   "id": "75e5d267",
   "metadata": {},
   "outputs": [],
   "source": []
  }
 ],
 "metadata": {
  "kernelspec": {
   "display_name": "Python 3 (ipykernel)",
   "language": "python",
   "name": "python3"
  },
  "language_info": {
   "codemirror_mode": {
    "name": "ipython",
    "version": 3
   },
   "file_extension": ".py",
   "mimetype": "text/x-python",
   "name": "python",
   "nbconvert_exporter": "python",
   "pygments_lexer": "ipython3",
   "version": "3.9.0"
  }
 },
 "nbformat": 4,
 "nbformat_minor": 5
}
