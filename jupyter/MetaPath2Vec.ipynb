{
 "cells": [
  {
   "cell_type": "code",
   "execution_count": 3,
   "id": "d11f110b",
   "metadata": {},
   "outputs": [],
   "source": [
    "import torch\n",
    "from torch.optim import SparseAdam\n",
    "from torch.utils.data import DataLoader\n",
    "\n",
    "import dgl\n",
    "from dgl.nn.pytorch import MetaPath2Vec\n",
    "\n",
    "import pickle"
   ]
  },
  {
   "cell_type": "code",
   "execution_count": 2,
   "id": "77b50ff0",
   "metadata": {},
   "outputs": [],
   "source": [
    "def load_pickle(name:str):\n",
    "    with open(f'{name}.pickle','rb') as f:\n",
    "        return pickle.load(f)\n",
    "\n",
    "wiki_dict = load_pickle(\"wiki_dict\")\n",
    "csv_dict = load_pickle(\"csv_dict\")\n",
    "csv2wiki = load_pickle(\"csv2wiki\")\n",
    "wiki2csv = load_pickle(\"wiki2csv\")\n"
   ]
  },
  {
   "cell_type": "code",
   "execution_count": 4,
   "id": "2d8f639b",
   "metadata": {},
   "outputs": [],
   "source": [
    "# related_by\n",
    "\n",
    "def make_node(dic : dict):\n",
    "    \n",
    "    csv_node = []\n",
    "    wiki_node = []\n",
    "\n",
    "    for key in dic.keys():\n",
    "        for value in dic[key]:\n",
    "            csv_node.append(key)\n",
    "            wiki_node.append(value)\n",
    "            \n",
    "    return csv_node, wiki_node\n"
   ]
  },
  {
   "cell_type": "code",
   "execution_count": 5,
   "id": "a3e7f7d4",
   "metadata": {},
   "outputs": [],
   "source": [
    "related_by_csv, related_by_wiki = make_node(csv2wiki)\n",
    "related_wiki, related_csv = make_node(wiki2csv)\n"
   ]
  },
  {
   "cell_type": "code",
   "execution_count": 6,
   "id": "c4970056",
   "metadata": {},
   "outputs": [],
   "source": [
    "\n",
    "data_dict = {\n",
    "                (\"csv\",\"related_by\",\"wiki\") : (related_by_csv, related_by_wiki) ,\n",
    "                (\"wiki\",\"related\",\"csv\") : (related_wiki, related_csv)\n",
    "            }\n",
    "\n",
    "\n",
    "graph = dgl.heterograph(data_dict)\n"
   ]
  },
  {
   "cell_type": "code",
   "execution_count": 7,
   "id": "4657efb8",
   "metadata": {},
   "outputs": [
    {
     "data": {
      "text/plain": [
       "Graph(num_nodes={'csv': 12, 'wiki': 106},\n",
       "      num_edges={('csv', 'related_by', 'wiki'): 168, ('wiki', 'related', 'csv'): 168},\n",
       "      metagraph=[('csv', 'wiki', 'related_by'), ('wiki', 'csv', 'related')])"
      ]
     },
     "execution_count": 7,
     "metadata": {},
     "output_type": "execute_result"
    }
   ],
   "source": [
    "graph"
   ]
  },
  {
   "cell_type": "markdown",
   "id": "999d273d",
   "metadata": {},
   "source": [
    "# model"
   ]
  },
  {
   "cell_type": "code",
   "execution_count": 152,
   "id": "5ba3e643",
   "metadata": {},
   "outputs": [
    {
     "name": "stderr",
     "output_type": "stream",
     "text": [
      "100%|██████████████████████████████████████████████████████████████████████████████████████████████████████████████████████████| 12/12 [00:00<00:00, 819.64it/s]\n"
     ]
    }
   ],
   "source": [
    "random_walks_length = 40\n",
    "ratio = random_walks_length // 2\n",
    "window_size = 5\n",
    "negative_size = 3\n",
    "MetaPath = [\"related_by\", \"related\"] * ratio\n",
    "model = MetaPath2Vec(graph, MetaPath, window_size = window_size, negative_size = negative_size)"
   ]
  },
  {
   "cell_type": "code",
   "execution_count": 153,
   "id": "2f5b2675",
   "metadata": {},
   "outputs": [
    {
     "data": {
      "text/plain": [
       "MetaPath2Vec(\n",
       "  (node_embed): Embedding(118, 128, sparse=True)\n",
       "  (context_embed): Embedding(118, 128, sparse=True)\n",
       ")"
      ]
     },
     "execution_count": 153,
     "metadata": {},
     "output_type": "execute_result"
    }
   ],
   "source": [
    "model"
   ]
  },
  {
   "cell_type": "code",
   "execution_count": 154,
   "id": "d22d5d38",
   "metadata": {},
   "outputs": [],
   "source": [
    "\n",
    "dataloader = DataLoader(torch.arange(graph.num_nodes('csv')), batch_size = 128, shuffle = True, collate_fn = model.sample)\n",
    "optimizer = SparseAdam(model.parameters(), lr = 0.01)\n",
    "\n"
   ]
  },
  {
   "cell_type": "code",
   "execution_count": 155,
   "id": "6d4daab1",
   "metadata": {},
   "outputs": [
    {
     "data": {
      "text/plain": [
       "'cuda:0'"
      ]
     },
     "execution_count": 155,
     "metadata": {},
     "output_type": "execute_result"
    }
   ],
   "source": [
    "device = \"cuda:0\" if torch.cuda.is_available() else \"cpu\"\n",
    "device"
   ]
  },
  {
   "cell_type": "code",
   "execution_count": 156,
   "id": "d1f85563",
   "metadata": {},
   "outputs": [],
   "source": [
    "model = model.to(device)"
   ]
  },
  {
   "cell_type": "code",
   "execution_count": 157,
   "id": "6d461501",
   "metadata": {},
   "outputs": [
    {
     "data": {
      "text/plain": [
       "torch.Size([4500])"
      ]
     },
     "execution_count": 157,
     "metadata": {},
     "output_type": "execute_result"
    }
   ],
   "source": [
    "next(iter(dataloader))[0].shape"
   ]
  },
  {
   "cell_type": "code",
   "execution_count": 158,
   "id": "8ea2deb5",
   "metadata": {},
   "outputs": [],
   "source": [
    "epochs = 100"
   ]
  },
  {
   "cell_type": "code",
   "execution_count": 159,
   "id": "5882357a",
   "metadata": {},
   "outputs": [],
   "source": [
    "def train(epochs):\n",
    "    \n",
    "    total_loss = []\n",
    "    \n",
    "    for epoch in range(epochs):\n",
    "        #print(f\"[epoch{epoch:04d}]\")\n",
    "        \n",
    "        epoch_loss = 0\n",
    "        for (pos_u, pos_v, neg_v) in dataloader:\n",
    "\n",
    "\n",
    "            pos_u = pos_u.to(device)\n",
    "            pos_v = pos_v.to(device)\n",
    "            neg_v = neg_v.to(device)\n",
    "\n",
    "            # forward\n",
    "            loss = model(pos_u, pos_v, neg_v)\n",
    "            epoch_loss += loss.item()\n",
    "\n",
    "            #print(f\"loss = {loss:.4f}\")\n",
    "\n",
    "            # backward\n",
    "            optimizer.zero_grad()\n",
    "            loss.backward()\n",
    "            optimizer.step()\n",
    "        \n",
    "        total_loss.append(epoch_loss / len(dataloader))\n",
    "    \n",
    "    return total_loss\n",
    "            \n",
    "\n",
    "def draw_loss(x : range, y : list) -> None:\n",
    "    sns.lineplot(x = x, y = y)\n",
    "\n",
    "def train_and_drawloss(epochs):\n",
    "    draw_loss(range(epochs), train(epochs))\n",
    "    \n"
   ]
  },
  {
   "cell_type": "code",
   "execution_count": 160,
   "id": "952f675c",
   "metadata": {},
   "outputs": [
    {
     "data": {
      "image/png": "[encoded data removed]",
      "text/plain": [
       "<Figure size 432x288 with 1 Axes>"
      ]
     },
     "metadata": {
      "needs_background": "light"
     },
     "output_type": "display_data"
    }
   ],
   "source": [
    "epochs = 100\n",
    "\n",
    "train_and_drawloss(epochs)"
   ]
  },
  {
   "cell_type": "code",
   "execution_count": 162,
   "id": "c0237294",
   "metadata": {},
   "outputs": [
    {
     "name": "stdout",
     "output_type": "stream",
     "text": [
      "Fri Mar 24 16:17:57 2023       \n",
      "+-----------------------------------------------------------------------------+\n",
      "| NVIDIA-SMI 470.161.03   Driver Version: 470.161.03   CUDA Version: 11.4     |\n",
      "|-------------------------------+----------------------+----------------------+\n",
      "| GPU  Name        Persistence-M| Bus-Id        Disp.A | Volatile Uncorr. ECC |\n",
      "| Fan  Temp  Perf  Pwr:Usage/Cap|         Memory-Usage | GPU-Util  Compute M. |\n",
      "|                               |                      |               MIG M. |\n",
      "|===============================+======================+======================|\n",
      "|   0  NVIDIA GeForce ...  Off  | 00000000:3B:00.0 Off |                  N/A |\n",
      "| 46%   41C    P8    26W / 370W |   1049MiB / 24268MiB |      0%      Default |\n",
      "|                               |                      |                  N/A |\n",
      "+-------------------------------+----------------------+----------------------+\n",
      "|   1  NVIDIA GeForce ...  Off  | 00000000:86:00.0 Off |                  N/A |\n",
      "|  0%   43C    P8    25W / 370W |      8MiB / 24268MiB |      0%      Default |\n",
      "|                               |                      |                  N/A |\n",
      "+-------------------------------+----------------------+----------------------+\n",
      "|   2  NVIDIA GeForce ...  Off  | 00000000:AF:00.0 Off |                  N/A |\n",
      "| 24%   44C    P8    10W / 250W |     18MiB / 11178MiB |      0%      Default |\n",
      "|                               |                      |                  N/A |\n",
      "+-------------------------------+----------------------+----------------------+\n",
      "                                                                               \n",
      "+-----------------------------------------------------------------------------+\n",
      "| Processes:                                                                  |\n",
      "|  GPU   GI   CI        PID   Type   Process name                  GPU Memory |\n",
      "|        ID   ID                                                   Usage      |\n",
      "|=============================================================================|\n",
      "|    0   N/A  N/A      2131      G   /usr/lib/xorg/Xorg                  4MiB |\n",
      "|    0   N/A  N/A   2003579      C   ...da3/envs/py390/bin/python     1041MiB |\n",
      "|    1   N/A  N/A      2131      G   /usr/lib/xorg/Xorg                  4MiB |\n",
      "|    2   N/A  N/A      2131      G   /usr/lib/xorg/Xorg                  9MiB |\n",
      "|    2   N/A  N/A      2655      G   /usr/bin/gnome-shell                3MiB |\n",
      "+-----------------------------------------------------------------------------+\n"
     ]
    }
   ],
   "source": [
    "!nvidia-smi"
   ]
  },
  {
   "cell_type": "markdown",
   "id": "609dc094",
   "metadata": {},
   "source": [
    "# Save the Graph and Node Embedding"
   ]
  },
  {
   "cell_type": "code",
   "execution_count": 167,
   "id": "b548ac03",
   "metadata": {},
   "outputs": [
    {
     "data": {
      "text/plain": [
       "array([[-0.14010271, -0.02599281,  0.27408934, ...,  0.11904889,\n",
       "         0.23313086,  0.16958776],\n",
       "       [-0.12241571, -0.2223249 , -0.33095533, ...,  0.2243254 ,\n",
       "        -0.04250657,  0.09339186],\n",
       "       [-0.23974529, -0.15623267, -0.02023898, ...,  0.08018677,\n",
       "        -0.0486981 ,  0.1061918 ],\n",
       "       ...,\n",
       "       [-0.34579408, -0.25645423, -0.20523408, ...,  0.40031806,\n",
       "         0.41829586,  0.2993784 ],\n",
       "       [-0.33828157, -0.23847388, -0.15224227, ...,  0.40729636,\n",
       "         0.38762233,  0.29141828],\n",
       "       [-0.32184985, -0.22683224, -0.16648847, ...,  0.40308186,\n",
       "         0.40062132,  0.28597674]], dtype=float32)"
      ]
     },
     "execution_count": 167,
     "metadata": {},
     "output_type": "execute_result"
    }
   ],
   "source": [
    "Embedding = model.node_embed.weight.detach().cpu().numpy()\n",
    "Embedding"
   ]
  },
  {
   "cell_type": "code",
   "execution_count": 168,
   "id": "890969a7",
   "metadata": {},
   "outputs": [],
   "source": [
    "with open(\"Embedding\", \"wb\") as f:\n",
    "    pickle.dump(Embedding, f, pickle.HIGHEST_PROTOCOL)\n"
   ]
  },
  {
   "cell_type": "code",
   "execution_count": 169,
   "id": "16aa7dbd",
   "metadata": {},
   "outputs": [],
   "source": [
    "with open(\"csv_wiki_graph\", \"wb\") as f:\n",
    "    pickle.dump(graph, f, pickle.HIGHEST_PROTOCOL)\n",
    "\n"
   ]
  },
  {
   "cell_type": "code",
   "execution_count": 170,
   "id": "a31c850e",
   "metadata": {},
   "outputs": [
    {
     "name": "stdout",
     "output_type": "stream",
     "text": [
      "Concept-Extraction\t Kaggle.ipynb\r\n",
      "content.csv\t\t learning-equality-curriculum-recommendations.zip\r\n",
      "correlations.csv\t MetaPath2Vec.ipynb\r\n",
      "csv2wiki.pickle\t\t Preprocess.ipynb\r\n",
      "csv_dict.pickle\t\t sample_submission.csv\r\n",
      "csv_keywords_df.csv\t topics.csv\r\n",
      "csv_wiki_graph\t\t Untitled.ipynb\r\n",
      "data.pickle\t\t wiki2csv.pickle\r\n",
      "Deepwalk.ipynb\t\t wiki_dict.pickle\r\n",
      "Deepwalk_practice.ipynb  Wikipedia.ipynb\r\n",
      "Embedding\r\n"
     ]
    }
   ],
   "source": [
    "!ls"
   ]
  },
  {
   "cell_type": "code",
   "execution_count": 175,
   "id": "4a5b4b66",
   "metadata": {},
   "outputs": [],
   "source": [
    "with open(\"csv_wiki_graph\", \"rb\") as f:\n",
    "    d = pickle.load(f)"
   ]
  },
  {
   "cell_type": "code",
   "execution_count": 176,
   "id": "94509737",
   "metadata": {},
   "outputs": [
    {
     "data": {
      "text/plain": [
       "Graph(num_nodes={'csv': 12, 'wiki': 106},\n",
       "      num_edges={('csv', 'related_by', 'wiki'): 168, ('wiki', 'related', 'csv'): 168},\n",
       "      metagraph=[('csv', 'wiki', 'related_by'), ('wiki', 'csv', 'related')])"
      ]
     },
     "execution_count": 176,
     "metadata": {},
     "output_type": "execute_result"
    }
   ],
   "source": [
    "d"
   ]
  },
  {
   "cell_type": "code",
   "execution_count": 177,
   "id": "4ef7bd33",
   "metadata": {},
   "outputs": [
    {
     "name": "stdout",
     "output_type": "stream",
     "text": [
      "57M\tConcept-Extraction\r\n",
      "816K\tDeepwalk.ipynb\r\n",
      "40K\tDeepwalk_practice.ipynb\r\n",
      "60K\tEmbedding\r\n",
      "28K\tKaggle.ipynb\r\n",
      "32K\tMetaPath2Vec.ipynb\r\n",
      "20K\tPreprocess.ipynb\r\n",
      "4.0K\tUntitled.ipynb\r\n",
      "52K\tWikipedia.ipynb\r\n",
      "832M\tcontent.csv\r\n",
      "4.9M\tcorrelations.csv\r\n",
      "4.0K\tcsv2wiki.pickle\r\n",
      "4.0K\tcsv_dict.pickle\r\n",
      "80K\tcsv_keywords_df.csv\r\n",
      "8.0K\tcsv_wiki_graph\r\n",
      "4.0K\tdata.pickle\r\n",
      "254M\tlearning-equality-curriculum-recommendations.zip\r\n",
      "4.0K\tsample_submission.csv\r\n",
      "14M\ttopics.csv\r\n",
      "4.0K\twiki2csv.pickle\r\n",
      "4.0K\twiki_dict.pickle\r\n"
     ]
    }
   ],
   "source": [
    "!du -sh *"
   ]
  },
  {
   "cell_type": "code",
   "execution_count": null,
   "id": "abeb8005",
   "metadata": {},
   "outputs": [],
   "source": []
  }
 ],
 "metadata": {
  "kernelspec": {
   "display_name": "Python 3 (ipykernel)",
   "language": "python",
   "name": "python3"
  },
  "language_info": {
   "codemirror_mode": {
    "name": "ipython",
    "version": 3
   },
   "file_extension": ".py",
   "mimetype": "text/x-python",
   "name": "python",
   "nbconvert_exporter": "python",
   "pygments_lexer": "ipython3",
   "version": "3.9.0"
  }
 },
 "nbformat": 4,
 "nbformat_minor": 5
}
