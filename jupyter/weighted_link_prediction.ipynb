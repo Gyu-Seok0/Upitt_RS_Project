{
 "cells": [
  {
   "cell_type": "code",
   "execution_count": 1,
   "id": "e2e46094",
   "metadata": {},
   "outputs": [
    {
     "name": "stdout",
     "output_type": "stream",
     "text": [
      "Thu Mar 30 22:40:53 2023       \n",
      "+-----------------------------------------------------------------------------+\n",
      "| NVIDIA-SMI 470.161.03   Driver Version: 470.161.03   CUDA Version: 11.4     |\n",
      "|-------------------------------+----------------------+----------------------+\n",
      "| GPU  Name        Persistence-M| Bus-Id        Disp.A | Volatile Uncorr. ECC |\n",
      "| Fan  Temp  Perf  Pwr:Usage/Cap|         Memory-Usage | GPU-Util  Compute M. |\n",
      "|                               |                      |               MIG M. |\n",
      "|===============================+======================+======================|\n",
      "|   0  NVIDIA GeForce ...  Off  | 00000000:3B:00.0 Off |                  N/A |\n",
      "|100%   81C    P2   308W / 370W |  20099MiB / 24268MiB |     96%      Default |\n",
      "|                               |                      |                  N/A |\n",
      "+-------------------------------+----------------------+----------------------+\n",
      "|   1  NVIDIA GeForce ...  Off  | 00000000:86:00.0 Off |                  N/A |\n",
      "| 75%   79C    P2   356W / 370W |  20033MiB / 24268MiB |     97%      Default |\n",
      "|                               |                      |                  N/A |\n",
      "+-------------------------------+----------------------+----------------------+\n",
      "|   2  NVIDIA GeForce ...  Off  | 00000000:AF:00.0 Off |                  N/A |\n",
      "| 41%   69C    P8    15W / 250W |     18MiB / 11178MiB |      0%      Default |\n",
      "|                               |                      |                  N/A |\n",
      "+-------------------------------+----------------------+----------------------+\n",
      "                                                                               \n",
      "+-----------------------------------------------------------------------------+\n",
      "| Processes:                                                                  |\n",
      "|  GPU   GI   CI        PID   Type   Process name                  GPU Memory |\n",
      "|        ID   ID                                                   Usage      |\n",
      "|=============================================================================|\n",
      "|    0   N/A  N/A      2131      G   /usr/lib/xorg/Xorg                  4MiB |\n",
      "|    0   N/A  N/A    269856      C   python                          20091MiB |\n",
      "|    1   N/A  N/A      2131      G   /usr/lib/xorg/Xorg                  4MiB |\n",
      "|    1   N/A  N/A    271684      C   python                          20025MiB |\n",
      "|    2   N/A  N/A      2131      G   /usr/lib/xorg/Xorg                  9MiB |\n",
      "|    2   N/A  N/A      2655      G   /usr/bin/gnome-shell                3MiB |\n",
      "+-----------------------------------------------------------------------------+\n"
     ]
    }
   ],
   "source": [
    "!nvidia-smi"
   ]
  },
  {
   "cell_type": "code",
   "execution_count": 2,
   "id": "5455fe2e",
   "metadata": {},
   "outputs": [
    {
     "name": "stderr",
     "output_type": "stream",
     "text": [
      "/home/gyuseok/anaconda3/envs/hinsage/lib/python3.6/site-packages/requests/__init__.py:104: RequestsDependencyWarning: urllib3 (1.26.15) or chardet (5.0.0)/charset_normalizer (2.0.12) doesn't match a supported version!\n",
      "  RequestsDependencyWarning)\n"
     ]
    },
    {
     "data": {
      "text/plain": [
       "<tensorflow.python.eager.context._EagerDeviceContext at 0x7f4c16c52cc8>"
      ]
     },
     "execution_count": 2,
     "metadata": {},
     "output_type": "execute_result"
    }
   ],
   "source": [
    "import pickle5 as pickle\n",
    "import pandas as pd\n",
    "import tensorflow as tf\n",
    "\n",
    "tf.device('/device:GPU:2')"
   ]
  },
  {
   "cell_type": "code",
   "execution_count": 3,
   "id": "33eb2fd2",
   "metadata": {},
   "outputs": [],
   "source": [
    "\n",
    "import pickle5 as pickle\n",
    "\n",
    "def make_node(dic : dict):\n",
    "    \n",
    "    csv_node = []\n",
    "    wiki_node = []\n",
    "\n",
    "    for key in dic.keys():\n",
    "        for value in dic[key]:\n",
    "            csv_node.append(key)\n",
    "            wiki_node.append(value)\n",
    "            \n",
    "    return csv_node, wiki_node\n",
    "\n",
    "def load_pickle(name:str):\n",
    "    with open(f'{name}.pickle','rb') as f:\n",
    "        return pickle.load(f)\n",
    "\n",
    "def add_csv_idx(l, num_csv):\n",
    "    return list(map(lambda x: x + num_csv, l))\n",
    "\n",
    "wiki_dict = load_pickle(\"wiki_dict\")\n",
    "csv_dict = load_pickle(\"csv_dict\")\n",
    "csv2wiki = load_pickle(\"csv2wiki\")\n",
    "wiki2csv = load_pickle(\"wiki2csv\")\n",
    "#g = load_pickle(\"csv_wiki_graph\")\n",
    "embedding = load_pickle(\"embedding\")\n",
    "\n",
    "num_csv = len(csv2wiki.keys())\n",
    "\n",
    "\n",
    "related_by_csv, related_by_wiki = make_node(csv2wiki)\n",
    "related_by_wiki = add_csv_idx(related_by_wiki, num_csv)\n",
    "\n",
    "related_wiki, related_csv = make_node(wiki2csv)\n",
    "related_wiki = add_csv_idx(related_wiki, num_csv)\n"
   ]
  },
  {
   "cell_type": "code",
   "execution_count": 4,
   "id": "615a42db",
   "metadata": {},
   "outputs": [
    {
     "data": {
      "text/html": [
       "<div>\n",
       "<style scoped>\n",
       "    .dataframe tbody tr th:only-of-type {\n",
       "        vertical-align: middle;\n",
       "    }\n",
       "\n",
       "    .dataframe tbody tr th {\n",
       "        vertical-align: top;\n",
       "    }\n",
       "\n",
       "    .dataframe thead th {\n",
       "        text-align: right;\n",
       "    }\n",
       "</style>\n",
       "<table border=\"1\" class=\"dataframe\">\n",
       "  <thead>\n",
       "    <tr style=\"text-align: right;\">\n",
       "      <th></th>\n",
       "      <th>source</th>\n",
       "      <th>target</th>\n",
       "    </tr>\n",
       "  </thead>\n",
       "  <tbody>\n",
       "    <tr>\n",
       "      <th>0</th>\n",
       "      <td>0</td>\n",
       "      <td>12</td>\n",
       "    </tr>\n",
       "    <tr>\n",
       "      <th>1</th>\n",
       "      <td>0</td>\n",
       "      <td>13</td>\n",
       "    </tr>\n",
       "    <tr>\n",
       "      <th>2</th>\n",
       "      <td>0</td>\n",
       "      <td>14</td>\n",
       "    </tr>\n",
       "    <tr>\n",
       "      <th>3</th>\n",
       "      <td>0</td>\n",
       "      <td>15</td>\n",
       "    </tr>\n",
       "    <tr>\n",
       "      <th>4</th>\n",
       "      <td>0</td>\n",
       "      <td>16</td>\n",
       "    </tr>\n",
       "  </tbody>\n",
       "</table>\n",
       "</div>"
      ],
      "text/plain": [
       "   source  target\n",
       "0       0      12\n",
       "1       0      13\n",
       "2       0      14\n",
       "3       0      15\n",
       "4       0      16"
      ]
     },
     "execution_count": 4,
     "metadata": {},
     "output_type": "execute_result"
    }
   ],
   "source": [
    "\n",
    "edge_df = pd.DataFrame({\n",
    "                        \"source\" : related_by_csv,\n",
    "                        \"target\" : related_by_wiki\n",
    "                        })\n",
    "\n",
    "edge_df.head()"
   ]
  },
  {
   "cell_type": "code",
   "execution_count": 5,
   "id": "49e4f621",
   "metadata": {},
   "outputs": [
    {
     "data": {
      "text/html": [
       "<div>\n",
       "<style scoped>\n",
       "    .dataframe tbody tr th:only-of-type {\n",
       "        vertical-align: middle;\n",
       "    }\n",
       "\n",
       "    .dataframe tbody tr th {\n",
       "        vertical-align: top;\n",
       "    }\n",
       "\n",
       "    .dataframe thead th {\n",
       "        text-align: right;\n",
       "    }\n",
       "</style>\n",
       "<table border=\"1\" class=\"dataframe\">\n",
       "  <thead>\n",
       "    <tr style=\"text-align: right;\">\n",
       "      <th></th>\n",
       "      <th>source</th>\n",
       "      <th>target</th>\n",
       "      <th>weight</th>\n",
       "    </tr>\n",
       "  </thead>\n",
       "  <tbody>\n",
       "    <tr>\n",
       "      <th>0</th>\n",
       "      <td>8</td>\n",
       "      <td>13</td>\n",
       "      <td>4</td>\n",
       "    </tr>\n",
       "    <tr>\n",
       "      <th>1</th>\n",
       "      <td>1</td>\n",
       "      <td>30</td>\n",
       "      <td>3</td>\n",
       "    </tr>\n",
       "    <tr>\n",
       "      <th>2</th>\n",
       "      <td>3</td>\n",
       "      <td>53</td>\n",
       "      <td>3</td>\n",
       "    </tr>\n",
       "    <tr>\n",
       "      <th>3</th>\n",
       "      <td>10</td>\n",
       "      <td>102</td>\n",
       "      <td>3</td>\n",
       "    </tr>\n",
       "    <tr>\n",
       "      <th>4</th>\n",
       "      <td>7</td>\n",
       "      <td>83</td>\n",
       "      <td>2</td>\n",
       "    </tr>\n",
       "  </tbody>\n",
       "</table>\n",
       "</div>"
      ],
      "text/plain": [
       "   source  target  weight\n",
       "0       8      13       4\n",
       "1       1      30       3\n",
       "2       3      53       3\n",
       "3      10     102       3\n",
       "4       7      83       2"
      ]
     },
     "execution_count": 5,
     "metadata": {},
     "output_type": "execute_result"
    }
   ],
   "source": [
    "w_edge_df =  edge_df[[\"source\",\"target\"]].value_counts().reset_index()\n",
    "w_edge_df.columns = [\"source\",\"target\",\"weight\"]\n",
    "w_edge_df.head()"
   ]
  },
  {
   "cell_type": "code",
   "execution_count": 6,
   "id": "a58dd4f4",
   "metadata": {},
   "outputs": [
    {
     "name": "stdout",
     "output_type": "stream",
     "text": [
      "StellarGraph: Undirected multigraph\n",
      " Nodes: 118, Edges: 151\n",
      "\n",
      " Node types:\n",
      "  default: [118]\n",
      "    Features: float32 vector, length 128\n",
      "    Edge types: default-default->default\n",
      "\n",
      " Edge types:\n",
      "    default-default->default: [151]\n",
      "        Weights: range=[1, 4], mean=1.11258, std=0.42494\n",
      "        Features: none\n"
     ]
    }
   ],
   "source": [
    "from stellargraph import StellarGraph\n",
    "\n",
    "G = StellarGraph(embedding, \n",
    "                 w_edge_df, \n",
    "                 is_directed = False)\n",
    "print(G.info())"
   ]
  },
  {
   "cell_type": "markdown",
   "id": "60f3b62c",
   "metadata": {},
   "source": [
    "# GraphSAGE\n",
    "\n",
    "Only we have to consider thing is to check whether there is a link between csv and wiki or not.\n",
    "\n",
    "https://stellargraph.readthedocs.io/en/stable/demos/link-prediction/graphsage-link-prediction.html"
   ]
  },
  {
   "cell_type": "code",
   "execution_count": 7,
   "id": "903e127a",
   "metadata": {},
   "outputs": [],
   "source": [
    "import stellargraph as sg\n",
    "from stellargraph.data import EdgeSplitter\n",
    "from stellargraph.mapper import GraphSAGELinkGenerator\n",
    "from stellargraph.layer import GraphSAGE, HinSAGE, link_classification\n",
    "\n",
    "from tensorflow import keras\n",
    "from sklearn import preprocessing, feature_extraction, model_selection\n",
    "\n",
    "from stellargraph import globalvar\n",
    "from stellargraph import datasets\n",
    "from IPython.display import display, HTML\n",
    "%matplotlib inline"
   ]
  },
  {
   "cell_type": "code",
   "execution_count": 8,
   "id": "5a6a108c",
   "metadata": {},
   "outputs": [
    {
     "name": "stdout",
     "output_type": "stream",
     "text": [
      "** Sampled 15 positive and 15 negative edges. **\n"
     ]
    }
   ],
   "source": [
    "edge_splitter_test = EdgeSplitter(G)\n",
    "G_test, edge_ids_test, edge_labels_test = edge_splitter_test.train_test_split(\n",
    "    p=0.1, method=\"global\", keep_connected = True\n",
    ")"
   ]
  },
  {
   "cell_type": "code",
   "execution_count": 9,
   "id": "e67eaa4a",
   "metadata": {},
   "outputs": [
    {
     "name": "stdout",
     "output_type": "stream",
     "text": [
      "** Sampled 13 positive and 13 negative edges. **\n"
     ]
    }
   ],
   "source": [
    "edge_splitter_train = EdgeSplitter(G_test)\n",
    "G_train, edge_ids_train, edge_labels_train = edge_splitter_train.train_test_split(\n",
    "    p = 0.1, method=\"global\", keep_connected=True\n",
    ")"
   ]
  },
  {
   "cell_type": "code",
   "execution_count": 10,
   "id": "8a914d37",
   "metadata": {},
   "outputs": [
    {
     "name": "stdout",
     "output_type": "stream",
     "text": [
      "StellarGraph: Undirected multigraph\n",
      " Nodes: 118, Edges: 123\n",
      "\n",
      " Node types:\n",
      "  default: [118]\n",
      "    Features: float32 vector, length 128\n",
      "    Edge types: default-default->default\n",
      "\n",
      " Edge types:\n",
      "    default-default->default: [123]\n",
      "        Weights: range=[1, 3], mean=1.07317, std=0.318056\n",
      "        Features: none\n"
     ]
    }
   ],
   "source": [
    "print(G_train.info())\n"
   ]
  },
  {
   "cell_type": "code",
   "execution_count": 11,
   "id": "d2254b8d",
   "metadata": {},
   "outputs": [
    {
     "name": "stdout",
     "output_type": "stream",
     "text": [
      "StellarGraph: Undirected multigraph\n",
      " Nodes: 118, Edges: 136\n",
      "\n",
      " Node types:\n",
      "  default: [118]\n",
      "    Features: float32 vector, length 128\n",
      "    Edge types: default-default->default\n",
      "\n",
      " Edge types:\n",
      "    default-default->default: [136]\n",
      "        Weights: range=[1, 4], mean=1.10294, std=0.426518\n",
      "        Features: none\n"
     ]
    }
   ],
   "source": [
    "print(G_test.info())"
   ]
  },
  {
   "cell_type": "code",
   "execution_count": 12,
   "id": "e2b0de45",
   "metadata": {},
   "outputs": [],
   "source": [
    "batch_size = 20\n",
    "epochs = 20\n",
    "num_samples = [20,10] # the sizes of 1- and 2-hop neighbor samples for GraphSAGE"
   ]
  },
  {
   "cell_type": "code",
   "execution_count": 13,
   "id": "a5dd182a",
   "metadata": {},
   "outputs": [],
   "source": [
    "train_gen = GraphSAGELinkGenerator(G_train, batch_size, num_samples)\n",
    "train_flow = train_gen.flow(edge_ids_train, edge_labels_train, shuffle=True)\n"
   ]
  },
  {
   "cell_type": "code",
   "execution_count": 14,
   "id": "db3ed281",
   "metadata": {},
   "outputs": [],
   "source": [
    "test_gen = GraphSAGELinkGenerator(G_test, batch_size, num_samples)\n",
    "test_flow = test_gen.flow(edge_ids_test, edge_labels_test)\n"
   ]
  },
  {
   "cell_type": "code",
   "execution_count": 15,
   "id": "2d3e261e",
   "metadata": {},
   "outputs": [],
   "source": [
    "layer_sizes = [20, 20]\n",
    "\n",
    "graphsage = GraphSAGE(\n",
    "                        layer_sizes=layer_sizes,\n",
    "                        generator=train_gen,\n",
    "                        bias=True,\n",
    "                        dropout=0.3\n",
    ")\n"
   ]
  },
  {
   "cell_type": "code",
   "execution_count": 16,
   "id": "f5e19687",
   "metadata": {},
   "outputs": [
    {
     "data": {
      "text/plain": [
       "[<KerasTensor: shape=(None, 1, 128) dtype=float32 (created by layer 'input_1')>,\n",
       " <KerasTensor: shape=(None, 1, 128) dtype=float32 (created by layer 'input_4')>,\n",
       " <KerasTensor: shape=(None, 20, 128) dtype=float32 (created by layer 'input_2')>,\n",
       " <KerasTensor: shape=(None, 20, 128) dtype=float32 (created by layer 'input_5')>,\n",
       " <KerasTensor: shape=(None, 200, 128) dtype=float32 (created by layer 'input_3')>,\n",
       " <KerasTensor: shape=(None, 200, 128) dtype=float32 (created by layer 'input_6')>]"
      ]
     },
     "execution_count": 16,
     "metadata": {},
     "output_type": "execute_result"
    }
   ],
   "source": [
    "x_inp, x_out = graphsage.in_out_tensors()\n",
    "x_inp"
   ]
  },
  {
   "cell_type": "code",
   "execution_count": 17,
   "id": "80074185",
   "metadata": {},
   "outputs": [
    {
     "data": {
      "text/plain": [
       "[<KerasTensor: shape=(None, 20) dtype=float32 (created by layer 'lambda')>,\n",
       " <KerasTensor: shape=(None, 20) dtype=float32 (created by layer 'lambda')>]"
      ]
     },
     "execution_count": 17,
     "metadata": {},
     "output_type": "execute_result"
    }
   ],
   "source": [
    "x_out"
   ]
  },
  {
   "cell_type": "code",
   "execution_count": 18,
   "id": "f7e2f042",
   "metadata": {},
   "outputs": [
    {
     "name": "stdout",
     "output_type": "stream",
     "text": [
      "link_classification: using 'ip' method to combine node embeddings into edge embeddings\n"
     ]
    }
   ],
   "source": [
    "prediction = link_classification(\n",
    "    output_dim=1, output_act=\"relu\", edge_embedding_method=\"ip\"\n",
    ")(x_out)"
   ]
  },
  {
   "cell_type": "code",
   "execution_count": 19,
   "id": "090401f7",
   "metadata": {},
   "outputs": [
    {
     "name": "stderr",
     "output_type": "stream",
     "text": [
      "/home/gyuseok/anaconda3/envs/hinsage/lib/python3.6/site-packages/keras/optimizer_v2/optimizer_v2.py:356: UserWarning: The `lr` argument is deprecated, use `learning_rate` instead.\n",
      "  \"The `lr` argument is deprecated, use `learning_rate` instead.\")\n"
     ]
    }
   ],
   "source": [
    "model = keras.Model(inputs=x_inp, outputs=prediction)\n",
    "\n",
    "model.compile(\n",
    "    optimizer=keras.optimizers.Adam(lr=1e-3),\n",
    "    loss=keras.losses.binary_crossentropy,\n",
    "    metrics=[\"acc\"],\n",
    ")"
   ]
  },
  {
   "cell_type": "code",
   "execution_count": 20,
   "id": "c885ad3d",
   "metadata": {},
   "outputs": [
    {
     "name": "stdout",
     "output_type": "stream",
     "text": [
      "2/2 [==============================] - 2s 14ms/step - loss: 0.6340 - acc: 0.7308\n",
      "2/2 [==============================] - 0s 35ms/step - loss: 0.6121 - acc: 0.6667\n",
      "\n",
      "Train Set Metrics of the initial (untrained) model:\n",
      "\tloss: 0.6340\n",
      "\tacc: 0.7308\n",
      "\n",
      "Test Set Metrics of the initial (untrained) model:\n",
      "\tloss: 0.6121\n",
      "\tacc: 0.6667\n"
     ]
    }
   ],
   "source": [
    "init_train_metrics = model.evaluate(train_flow)\n",
    "init_test_metrics = model.evaluate(test_flow)\n",
    "\n",
    "print(\"\\nTrain Set Metrics of the initial (untrained) model:\")\n",
    "for name, val in zip(model.metrics_names, init_train_metrics):\n",
    "    print(\"\\t{}: {:0.4f}\".format(name, val))\n",
    "\n",
    "print(\"\\nTest Set Metrics of the initial (untrained) model:\")\n",
    "for name, val in zip(model.metrics_names, init_test_metrics):\n",
    "    print(\"\\t{}: {:0.4f}\".format(name, val))"
   ]
  },
  {
   "cell_type": "code",
   "execution_count": 21,
   "id": "87f28350",
   "metadata": {},
   "outputs": [
    {
     "name": "stdout",
     "output_type": "stream",
     "text": [
      "Epoch 1/20\n",
      "2/2 - 2s - loss: 0.6042 - acc: 0.6923 - val_loss: 0.6406 - val_acc: 0.6333\n",
      "Epoch 2/20\n",
      "2/2 - 0s - loss: 0.6384 - acc: 0.6538 - val_loss: 0.6581 - val_acc: 0.6333\n",
      "Epoch 3/20\n",
      "2/2 - 0s - loss: 0.5405 - acc: 0.6154 - val_loss: 0.6551 - val_acc: 0.6000\n",
      "Epoch 4/20\n",
      "2/2 - 0s - loss: 0.5097 - acc: 0.7308 - val_loss: 0.6649 - val_acc: 0.6333\n",
      "Epoch 5/20\n",
      "2/2 - 0s - loss: 0.5809 - acc: 0.7308 - val_loss: 0.6847 - val_acc: 0.6000\n",
      "Epoch 6/20\n",
      "2/2 - 0s - loss: 0.4573 - acc: 0.7308 - val_loss: 0.6357 - val_acc: 0.6000\n",
      "Epoch 7/20\n",
      "2/2 - 0s - loss: 0.4514 - acc: 0.8462 - val_loss: 0.7037 - val_acc: 0.5333\n",
      "Epoch 8/20\n",
      "2/2 - 0s - loss: 0.6810 - acc: 0.5385 - val_loss: 0.6749 - val_acc: 0.6333\n",
      "Epoch 9/20\n",
      "2/2 - 0s - loss: 0.5476 - acc: 0.6538 - val_loss: 0.6748 - val_acc: 0.6667\n",
      "Epoch 10/20\n",
      "2/2 - 0s - loss: 0.4581 - acc: 0.8462 - val_loss: 0.6953 - val_acc: 0.6333\n",
      "Epoch 11/20\n",
      "2/2 - 0s - loss: 0.5223 - acc: 0.7308 - val_loss: 0.7017 - val_acc: 0.6000\n",
      "Epoch 12/20\n",
      "2/2 - 0s - loss: 0.5070 - acc: 0.6923 - val_loss: 0.6963 - val_acc: 0.6667\n",
      "Epoch 13/20\n",
      "2/2 - 0s - loss: 0.4271 - acc: 0.8077 - val_loss: 0.6964 - val_acc: 0.6333\n",
      "Epoch 14/20\n",
      "2/2 - 0s - loss: 0.6589 - acc: 0.6154 - val_loss: 0.7115 - val_acc: 0.6333\n",
      "Epoch 15/20\n",
      "2/2 - 0s - loss: 0.3972 - acc: 0.6923 - val_loss: 0.7471 - val_acc: 0.5667\n",
      "Epoch 16/20\n",
      "2/2 - 0s - loss: 0.5388 - acc: 0.7308 - val_loss: 0.7187 - val_acc: 0.6333\n",
      "Epoch 17/20\n",
      "2/2 - 0s - loss: 0.5419 - acc: 0.7692 - val_loss: 0.7378 - val_acc: 0.6000\n",
      "Epoch 18/20\n",
      "2/2 - 0s - loss: 0.4137 - acc: 0.8077 - val_loss: 0.7187 - val_acc: 0.6667\n",
      "Epoch 19/20\n",
      "2/2 - 0s - loss: 0.5731 - acc: 0.7692 - val_loss: 0.7171 - val_acc: 0.6333\n",
      "Epoch 20/20\n",
      "2/2 - 0s - loss: 0.5423 - acc: 0.7692 - val_loss: 0.7247 - val_acc: 0.6333\n"
     ]
    }
   ],
   "source": [
    "history = model.fit(train_flow, epochs=epochs, validation_data=test_flow, verbose=2)\n"
   ]
  },
  {
   "cell_type": "code",
   "execution_count": 22,
   "id": "f2f26a46",
   "metadata": {},
   "outputs": [
    {
     "data": {
      "image/png": "[encoded data removed]",
      "text/plain": [
       "<Figure size 504x576 with 2 Axes>"
      ]
     },
     "metadata": {
      "needs_background": "light"
     },
     "output_type": "display_data"
    }
   ],
   "source": [
    "sg.utils.plot_history(history)\n"
   ]
  },
  {
   "cell_type": "code",
   "execution_count": 23,
   "id": "3b5c5981",
   "metadata": {},
   "outputs": [
    {
     "name": "stdout",
     "output_type": "stream",
     "text": [
      "2/2 [==============================] - 0s 11ms/step - loss: 0.3748 - acc: 0.8462\n",
      "2/2 [==============================] - 0s 28ms/step - loss: 0.7141 - acc: 0.6667\n",
      "\n",
      "Train Set Metrics of the trained model:\n",
      "\tloss: 0.3748\n",
      "\tacc: 0.8462\n",
      "\n",
      "Test Set Metrics of the trained model:\n",
      "\tloss: 0.7141\n",
      "\tacc: 0.6667\n"
     ]
    }
   ],
   "source": [
    "train_metrics = model.evaluate(train_flow)\n",
    "test_metrics = model.evaluate(test_flow)\n",
    "\n",
    "print(\"\\nTrain Set Metrics of the trained model:\")\n",
    "for name, val in zip(model.metrics_names, train_metrics):\n",
    "    print(\"\\t{}: {:0.4f}\".format(name, val))\n",
    "\n",
    "print(\"\\nTest Set Metrics of the trained model:\")\n",
    "for name, val in zip(model.metrics_names, test_metrics):\n",
    "    print(\"\\t{}: {:0.4f}\".format(name, val))"
   ]
  },
  {
   "cell_type": "code",
   "execution_count": 24,
   "id": "57683f79",
   "metadata": {},
   "outputs": [
    {
     "data": {
      "text/plain": [
       "array([[0.9747856 ],\n",
       "       [0.5945711 ],\n",
       "       [0.30764037],\n",
       "       [0.96237445],\n",
       "       [0.7097129 ],\n",
       "       [0.7520008 ],\n",
       "       [0.5826384 ],\n",
       "       [0.3252193 ],\n",
       "       [0.68893856],\n",
       "       [0.8883231 ],\n",
       "       [0.6705205 ],\n",
       "       [0.19415535],\n",
       "       [0.54814446],\n",
       "       [0.8818823 ],\n",
       "       [0.91222787],\n",
       "       [0.95188683],\n",
       "       [0.4362995 ],\n",
       "       [0.29073653],\n",
       "       [0.424804  ],\n",
       "       [0.8106469 ],\n",
       "       [0.50735795],\n",
       "       [0.86475325],\n",
       "       [0.51216805],\n",
       "       [0.54024357],\n",
       "       [0.5772613 ],\n",
       "       [0.21296072],\n",
       "       [0.        ],\n",
       "       [0.9007349 ],\n",
       "       [0.66361254],\n",
       "       [0.66079736]], dtype=float32)"
      ]
     },
     "execution_count": 24,
     "metadata": {},
     "output_type": "execute_result"
    }
   ],
   "source": [
    "model.predict(test_flow)"
   ]
  },
  {
   "cell_type": "code",
   "execution_count": 25,
   "id": "9590fb24",
   "metadata": {},
   "outputs": [
    {
     "data": {
      "text/plain": [
       "[array([ 7, 83], dtype=uint8),\n",
       " array([10, 21], dtype=uint8),\n",
       " array([ 5, 56], dtype=uint8),\n",
       " array([10, 90], dtype=uint8),\n",
       " array([ 6, 51], dtype=uint8),\n",
       " array([ 5, 21], dtype=uint8),\n",
       " array([ 8, 15], dtype=uint8),\n",
       " array([ 3, 49], dtype=uint8),\n",
       " array([ 8, 16], dtype=uint8),\n",
       " array([ 7, 50], dtype=uint8),\n",
       " array([ 2, 21], dtype=uint8),\n",
       " array([ 7, 36], dtype=uint8),\n",
       " array([ 7, 15], dtype=uint8),\n",
       " array([10, 94], dtype=uint8),\n",
       " array([ 5, 42], dtype=uint8),\n",
       " array([68, 47], dtype=uint8),\n",
       " array([65, 20], dtype=uint8),\n",
       " array([76, 98], dtype=uint8),\n",
       " array([62, 99], dtype=uint8),\n",
       " array([22, 86], dtype=uint8),\n",
       " array([35, 76], dtype=uint8),\n",
       " array([ 55, 106], dtype=uint8),\n",
       " array([ 9, 25], dtype=uint8),\n",
       " array([ 74, 115], dtype=uint8),\n",
       " array([ 4, 41], dtype=uint8),\n",
       " array([67, 83], dtype=uint8),\n",
       " array([31, 87], dtype=uint8),\n",
       " array([ 91, 112], dtype=uint8),\n",
       " array([ 6, 91], dtype=uint8),\n",
       " array([106,  35], dtype=uint8)]"
      ]
     },
     "execution_count": 25,
     "metadata": {},
     "output_type": "execute_result"
    }
   ],
   "source": [
    "test_flow.ids"
   ]
  },
  {
   "cell_type": "code",
   "execution_count": null,
   "id": "aeed16fa",
   "metadata": {},
   "outputs": [],
   "source": []
  }
 ],
 "metadata": {
  "kernelspec": {
   "display_name": "Python 3 (ipykernel)",
   "language": "python",
   "name": "python3"
  },
  "language_info": {
   "codemirror_mode": {
    "name": "ipython",
    "version": 3
   },
   "file_extension": ".py",
   "mimetype": "text/x-python",
   "name": "python",
   "nbconvert_exporter": "python",
   "pygments_lexer": "ipython3",
   "version": "3.9.0"
  }
 },
 "nbformat": 4,
 "nbformat_minor": 5
}
