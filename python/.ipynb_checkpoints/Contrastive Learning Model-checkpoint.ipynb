{
 "cells": [
  {
   "cell_type": "code",
   "execution_count": 17,
   "id": "426aa3b9",
   "metadata": {},
   "outputs": [],
   "source": [
    "import easydict\n",
    " \n",
    "args = easydict.EasyDict({\n",
    "        \"data_path\" : \"./Dataset/Total\",\n",
    "        \"emb_path\" : \"./Result_for_embedding/Total/Loss_1.2758\",\n",
    "        \"result_path\" : \"./Result_for_HinSage/Total\",\n",
    "        \"weight_toggle\" : False,\n",
    "        \"num_folds\" : 5,\n",
    "        \"num_samples\" : [4,2],\n",
    "        \"layer_sizes\" : [16,8],\n",
    "        \"batch_size\" : 200,\n",
    "        \"epochs\" : 100,\n",
    "        \"lr\" : 0.001,\n",
    "        \"drop_out\" : 0.4,\n",
    "        \"num_workers\" : -1\n",
    "    })\n",
    "    "
   ]
  },
  {
   "cell_type": "code",
   "execution_count": 1,
   "id": "e3cdf2ca",
   "metadata": {},
   "outputs": [
    {
     "name": "stderr",
     "output_type": "stream",
     "text": [
      "/home/gyuseok/anaconda3/envs/hinsage/lib/python3.6/site-packages/requests/__init__.py:104: RequestsDependencyWarning: urllib3 (1.26.15) or chardet (5.0.0)/charset_normalizer (2.0.12) doesn't match a supported version!\n",
      "  RequestsDependencyWarning)\n"
     ]
    }
   ],
   "source": [
    "from stellargraph import StellarGraph\n",
    "from stellargraph.data import EdgeSplitter\n",
    "from stellargraph.mapper import HinSAGELinkGenerator\n",
    "from stellargraph.layer import HinSAGE, link_classification"
   ]
  },
  {
   "cell_type": "code",
   "execution_count": 3,
   "id": "475a6ed2",
   "metadata": {},
   "outputs": [],
   "source": [
    "from utils import *"
   ]
  },
  {
   "cell_type": "code",
   "execution_count": 19,
   "id": "a66a8812",
   "metadata": {
    "scrolled": true
   },
   "outputs": [
    {
     "name": "stdout",
     "output_type": "stream",
     "text": [
      "num_csv = 77, num_wiki = 2512\n"
     ]
    }
   ],
   "source": [
    "# load dataset\n",
    "wiki2csv = load_pickle(os.path.join(args.data_path,\"wiki2csv\"))\n",
    "csv2wiki = load_pickle(os.path.join(args.data_path,\"csv2wiki\"))\n",
    "embedding = load_pickle(os.path.join(args.emb_path,\"Embedding\"))\n",
    "num_csv = len(csv2wiki.keys())\n",
    "num_wiki = len(wiki2csv.keys())\n",
    "print(f\"num_csv = {num_csv}, num_wiki = {num_wiki}\")"
   ]
  },
  {
   "cell_type": "code",
   "execution_count": 20,
   "id": "edf7d817",
   "metadata": {},
   "outputs": [
    {
     "name": "stdout",
     "output_type": "stream",
     "text": [
      "edge_df.shape = (8120, 2)\n",
      "\n",
      "[After applying drop_duplicate]\n",
      "edge_df.shape = (7237, 2)\n",
      "\n",
      "[After applying rename_for_value]\n",
      "      csv       wiki\n",
      "0  csv-26  wiki-2327\n",
      "1  csv-26  wiki-1312\n",
      "2  csv-26  wiki-1278\n",
      "3  csv-26  wiki-1241\n",
      "4  csv-26   wiki-913\n",
      "node_csv =             0         1         2         3         4         5         6    \\\n",
      "csv-0 -0.240582 -0.096518 -0.204321 -0.057264  0.130768 -0.063019  0.180385   \n",
      "csv-1  0.033454  0.065465  0.428110 -0.113888  0.536284 -0.092917  0.170378   \n",
      "csv-2 -0.210087 -0.152295  0.210778 -0.025063  0.449653  0.291625  0.071882   \n",
      "csv-3 -0.266294  0.060738 -0.420196  0.443523  0.224524 -0.249679  0.490691   \n",
      "csv-4  0.253309  0.038146  0.021372  0.101454 -0.286800  0.230597 -0.146937   \n",
      "\n",
      "            7         8         9    ...       118       119       120  \\\n",
      "csv-0  0.001783  0.212850  0.051950  ... -0.153015 -0.027282 -0.037565   \n",
      "csv-1  0.053746  0.079655  0.144963  ... -0.077511 -0.286580 -0.161355   \n",
      "csv-2  0.155274  0.048890 -0.120483  ... -0.166836 -0.056385 -0.097589   \n",
      "csv-3  0.247115 -0.012336  0.490024  ...  0.131347 -0.212784 -0.268399   \n",
      "csv-4 -0.006975  0.118955  0.320258  ...  0.006333 -0.079114  0.090220   \n",
      "\n",
      "            121       122       123       124       125       126       127  \n",
      "csv-0 -0.110901  0.215168  0.364613 -0.102798 -0.348406 -0.259555  0.018591  \n",
      "csv-1 -0.111309  0.082875  0.234833 -0.214153 -0.169364  0.332148 -0.050171  \n",
      "csv-2  0.147075  0.320355 -0.292478 -0.064677 -0.147436  0.216158  0.249005  \n",
      "csv-3  0.538113  0.893442  0.445640 -0.283187 -0.333214  0.604226  0.463532  \n",
      "csv-4  0.011318  0.113630  0.001420 -0.286978  0.247812  0.028229  0.103963  \n",
      "\n",
      "[5 rows x 128 columns]\n",
      "node_wiki =              0         1         2         3         4         5         6    \\\n",
      "wiki-0  0.527034 -0.116147 -0.184775 -0.061609  0.468074  0.282656  0.131014   \n",
      "wiki-1 -0.684858 -0.055441 -0.221970  0.459947  0.128692 -0.429269 -0.091643   \n",
      "wiki-2  0.061288 -0.257040  0.115948  0.160993 -0.017914 -0.263516  0.228586   \n",
      "wiki-3 -0.018664  0.057175  0.037046  0.071865 -0.587055  0.191193  0.064318   \n",
      "wiki-4 -0.425923 -0.186989  0.494927 -0.028550 -0.231580  0.135106 -0.053956   \n",
      "\n",
      "             7         8         9    ...       118       119       120  \\\n",
      "wiki-0  0.405856  0.221405  0.265950  ... -0.208398 -0.492606 -0.331774   \n",
      "wiki-1  0.083454 -0.200478  0.579340  ... -0.180787  0.121831  0.070580   \n",
      "wiki-2 -0.511468  0.068159  0.664377  ... -0.518391 -0.061033 -0.197004   \n",
      "wiki-3 -0.213340 -0.047722  0.594818  ...  0.251053 -0.267337  0.224664   \n",
      "wiki-4  0.186308  0.526836 -0.016336  ... -0.264073 -0.111578 -0.207020   \n",
      "\n",
      "             121       122       123       124       125       126       127  \n",
      "wiki-0  0.191482 -0.471675 -0.036320 -0.223525 -0.052506  0.351547  0.414022  \n",
      "wiki-1 -0.131899  0.252825 -0.279311 -0.383983 -0.158082  0.595816  0.035571  \n",
      "wiki-2 -0.254271  0.901781 -0.263141 -0.257262  0.051308  0.350465 -0.450217  \n",
      "wiki-3  0.106271 -0.093117  0.221750 -0.388597  0.250632  0.003541  0.262093  \n",
      "wiki-4  0.010371  0.313755 -0.599814 -0.106207 -0.151935  0.051264 -0.200198  \n",
      "\n",
      "[5 rows x 128 columns]\n",
      "\n",
      "[Graph]\n",
      "StellarGraph: Undirected multigraph\n",
      " Nodes: 2589, Edges: 7237\n",
      "\n",
      " Node types:\n",
      "  wiki: [2512]\n",
      "    Features: float32 vector, length 128\n",
      "    Edge types: wiki-default->csv\n",
      "  csv: [77]\n",
      "    Features: float32 vector, length 128\n",
      "    Edge types: csv-default->wiki\n",
      "\n",
      " Edge types:\n",
      "    csv-default->wiki: [7237]\n",
      "        Weights: all 1 (default)\n",
      "        Features: none\n"
     ]
    }
   ],
   "source": [
    "graph = make_graph(csv2wiki, embedding, num_csv, args)\n"
   ]
  },
  {
   "cell_type": "code",
   "execution_count": 21,
   "id": "9f6977d1",
   "metadata": {
    "scrolled": true
   },
   "outputs": [
    {
     "name": "stdout",
     "output_type": "stream",
     "text": [
      "Network has 7237 edges of type default\n",
      "Network has 7237 edges of type default\n",
      "** Sampled 144 positive and 144 negative edges. **\n",
      "Network has 7093 edges of type default\n",
      "Network has 7093 edges of type default\n",
      "** Sampled 148 positive and 148 negative edges. **\n"
     ]
    }
   ],
   "source": [
    "G_train, edge_ids_train, edge_labels_train, G_test, edge_ids_test, edge_labels_test = train_test_graph_split(graph)\n",
    "\n"
   ]
  },
  {
   "cell_type": "code",
   "execution_count": 37,
   "id": "194dc5a9",
   "metadata": {},
   "outputs": [
    {
     "data": {
      "text/plain": [
       "array([['csv-30', 'wiki-2196'],\n",
       "       ['csv-37', 'wiki-2148'],\n",
       "       ['csv-28', 'wiki-2045'],\n",
       "       ['csv-76', 'wiki-558'],\n",
       "       ['csv-71', 'wiki-1867'],\n",
       "       ['csv-35', 'wiki-764'],\n",
       "       ['csv-25', 'wiki-1121'],\n",
       "       ['csv-48', 'wiki-119'],\n",
       "       ['csv-30', 'wiki-1821'],\n",
       "       ['csv-25', 'wiki-1867'],\n",
       "       ['csv-38', 'wiki-1736'],\n",
       "       ['csv-7', 'wiki-1225'],\n",
       "       ['csv-46', 'wiki-819'],\n",
       "       ['csv-56', 'wiki-1431'],\n",
       "       ['csv-65', 'wiki-1252'],\n",
       "       ['csv-75', 'wiki-1922'],\n",
       "       ['csv-1', 'wiki-385'],\n",
       "       ['csv-33', 'wiki-1479'],\n",
       "       ['csv-73', 'wiki-2052'],\n",
       "       ['csv-29', 'wiki-535'],\n",
       "       ['csv-47', 'wiki-2145'],\n",
       "       ['csv-51', 'wiki-1735'],\n",
       "       ['csv-37', 'wiki-1814'],\n",
       "       ['csv-37', 'wiki-2509'],\n",
       "       ['csv-57', 'wiki-186'],\n",
       "       ['csv-57', 'wiki-1225'],\n",
       "       ['csv-41', 'wiki-514'],\n",
       "       ['csv-19', 'wiki-1070'],\n",
       "       ['csv-17', 'wiki-1028'],\n",
       "       ['csv-4', 'wiki-1135'],\n",
       "       ['csv-33', 'wiki-1987'],\n",
       "       ['csv-51', 'wiki-1692'],\n",
       "       ['csv-5', 'wiki-1195'],\n",
       "       ['csv-14', 'wiki-913'],\n",
       "       ['csv-54', 'wiki-2327'],\n",
       "       ['csv-69', 'wiki-1340'],\n",
       "       ['csv-7', 'wiki-1980'],\n",
       "       ['csv-38', 'wiki-2294'],\n",
       "       ['csv-19', 'wiki-2054'],\n",
       "       ['csv-11', 'wiki-692'],\n",
       "       ['csv-38', 'wiki-2325'],\n",
       "       ['csv-26', 'wiki-1717'],\n",
       "       ['csv-5', 'wiki-2245'],\n",
       "       ['csv-32', 'wiki-692'],\n",
       "       ['csv-56', 'wiki-228'],\n",
       "       ['csv-41', 'wiki-1125'],\n",
       "       ['csv-44', 'wiki-186'],\n",
       "       ['csv-28', 'wiki-2490'],\n",
       "       ['csv-73', 'wiki-2032'],\n",
       "       ['csv-24', 'wiki-1335'],\n",
       "       ['csv-35', 'wiki-2445'],\n",
       "       ['csv-28', 'wiki-1855'],\n",
       "       ['csv-68', 'wiki-2095'],\n",
       "       ['csv-49', 'wiki-508'],\n",
       "       ['csv-35', 'wiki-1908'],\n",
       "       ['csv-49', 'wiki-2126'],\n",
       "       ['csv-22', 'wiki-256'],\n",
       "       ['csv-50', 'wiki-77'],\n",
       "       ['csv-14', 'wiki-1348'],\n",
       "       ['csv-6', 'wiki-2445'],\n",
       "       ['csv-53', 'wiki-1312'],\n",
       "       ['csv-60', 'wiki-263'],\n",
       "       ['csv-24', 'wiki-1225'],\n",
       "       ['csv-42', 'wiki-2208'],\n",
       "       ['csv-22', 'wiki-578'],\n",
       "       ['csv-51', 'wiki-124'],\n",
       "       ['csv-64', 'wiki-144'],\n",
       "       ['csv-51', 'wiki-2088'],\n",
       "       ['csv-1', 'wiki-508'],\n",
       "       ['csv-10', 'wiki-1980'],\n",
       "       ['csv-24', 'wiki-587'],\n",
       "       ['csv-66', 'wiki-1727'],\n",
       "       ['csv-76', 'wiki-508'],\n",
       "       ['csv-42', 'wiki-137'],\n",
       "       ['csv-48', 'wiki-695'],\n",
       "       ['csv-42', 'wiki-2117'],\n",
       "       ['csv-7', 'wiki-401'],\n",
       "       ['csv-57', 'wiki-2494'],\n",
       "       ['csv-37', 'wiki-2049'],\n",
       "       ['csv-70', 'wiki-155'],\n",
       "       ['csv-2', 'wiki-1913'],\n",
       "       ['csv-60', 'wiki-909'],\n",
       "       ['csv-70', 'wiki-508'],\n",
       "       ['csv-24', 'wiki-1881'],\n",
       "       ['csv-62', 'wiki-1227'],\n",
       "       ['csv-21', 'wiki-1168'],\n",
       "       ['csv-10', 'wiki-1867'],\n",
       "       ['csv-41', 'wiki-908'],\n",
       "       ['csv-14', 'wiki-723'],\n",
       "       ['csv-59', 'wiki-1913'],\n",
       "       ['csv-51', 'wiki-913'],\n",
       "       ['csv-15', 'wiki-2059'],\n",
       "       ['csv-28', 'wiki-350'],\n",
       "       ['csv-76', 'wiki-1638'],\n",
       "       ['csv-9', 'wiki-1881'],\n",
       "       ['csv-48', 'wiki-1593'],\n",
       "       ['csv-76', 'wiki-947'],\n",
       "       ['csv-21', 'wiki-1006'],\n",
       "       ['csv-60', 'wiki-730'],\n",
       "       ['csv-69', 'wiki-1362'],\n",
       "       ['csv-65', 'wiki-333'],\n",
       "       ['csv-43', 'wiki-401'],\n",
       "       ['csv-75', 'wiki-1300'],\n",
       "       ['csv-35', 'wiki-1479'],\n",
       "       ['csv-5', 'wiki-510'],\n",
       "       ['csv-51', 'wiki-1394'],\n",
       "       ['csv-40', 'wiki-96'],\n",
       "       ['csv-2', 'wiki-558'],\n",
       "       ['csv-28', 'wiki-151'],\n",
       "       ['csv-18', 'wiki-1732'],\n",
       "       ['csv-60', 'wiki-490'],\n",
       "       ['csv-40', 'wiki-1847'],\n",
       "       ['csv-51', 'wiki-1855'],\n",
       "       ['csv-50', 'wiki-1348'],\n",
       "       ['csv-29', 'wiki-973'],\n",
       "       ['csv-6', 'wiki-647'],\n",
       "       ['csv-76', 'wiki-758'],\n",
       "       ['csv-35', 'wiki-1646'],\n",
       "       ['csv-35', 'wiki-125'],\n",
       "       ['csv-51', 'wiki-1383'],\n",
       "       ['csv-72', 'wiki-1699'],\n",
       "       ['csv-41', 'wiki-680'],\n",
       "       ['csv-47', 'wiki-1126'],\n",
       "       ['csv-65', 'wiki-1881'],\n",
       "       ['csv-58', 'wiki-2294'],\n",
       "       ['csv-40', 'wiki-1913'],\n",
       "       ['csv-38', 'wiki-1281'],\n",
       "       ['csv-30', 'wiki-688'],\n",
       "       ['csv-7', 'wiki-1380'],\n",
       "       ['csv-9', 'wiki-419'],\n",
       "       ['csv-50', 'wiki-443'],\n",
       "       ['csv-37', 'wiki-2245'],\n",
       "       ['csv-47', 'wiki-1168'],\n",
       "       ['csv-6', 'wiki-2169'],\n",
       "       ['csv-67', 'wiki-1225'],\n",
       "       ['csv-52', 'wiki-724'],\n",
       "       ['csv-25', 'wiki-1048'],\n",
       "       ['csv-50', 'wiki-1196'],\n",
       "       ['csv-42', 'wiki-1633'],\n",
       "       ['csv-7', 'wiki-1383'],\n",
       "       ['csv-69', 'wiki-769'],\n",
       "       ['csv-76', 'wiki-2445'],\n",
       "       ['csv-75', 'wiki-483'],\n",
       "       ['csv-4', 'wiki-1405'],\n",
       "       ['csv-38', 'wiki-1633'],\n",
       "       ['csv-55', 'wiki-2048'],\n",
       "       ['csv-7', 'wiki-1805'],\n",
       "       ['csv-72', 'wiki-1675'],\n",
       "       ['csv-39', 'wiki-878'],\n",
       "       ['csv-2', 'wiki-1552'],\n",
       "       ['csv-17', 'wiki-803'],\n",
       "       ['csv-4', 'wiki-1296'],\n",
       "       ['csv-52', 'wiki-1415'],\n",
       "       ['csv-31', 'wiki-699'],\n",
       "       ['csv-72', 'wiki-1113'],\n",
       "       ['csv-76', 'wiki-2025'],\n",
       "       ['csv-53', 'wiki-494'],\n",
       "       ['csv-55', 'wiki-720'],\n",
       "       ['csv-75', 'wiki-1702'],\n",
       "       ['csv-67', 'wiki-93'],\n",
       "       ['csv-66', 'wiki-2218'],\n",
       "       ['csv-33', 'wiki-378'],\n",
       "       ['csv-42', 'wiki-638'],\n",
       "       ['csv-20', 'wiki-594'],\n",
       "       ['csv-44', 'wiki-1130'],\n",
       "       ['csv-38', 'wiki-460'],\n",
       "       ['csv-61', 'wiki-1701'],\n",
       "       ['csv-8', 'wiki-2304'],\n",
       "       ['csv-13', 'wiki-449'],\n",
       "       ['csv-62', 'wiki-987'],\n",
       "       ['csv-19', 'wiki-1283'],\n",
       "       ['csv-56', 'wiki-56'],\n",
       "       ['csv-3', 'wiki-814'],\n",
       "       ['csv-22', 'wiki-440'],\n",
       "       ['csv-70', 'wiki-698'],\n",
       "       ['csv-10', 'wiki-843'],\n",
       "       ['csv-74', 'wiki-2275'],\n",
       "       ['csv-48', 'wiki-937'],\n",
       "       ['csv-71', 'wiki-1547'],\n",
       "       ['csv-0', 'wiki-1601'],\n",
       "       ['csv-27', 'wiki-1809'],\n",
       "       ['csv-37', 'wiki-387'],\n",
       "       ['csv-65', 'wiki-860'],\n",
       "       ['csv-32', 'wiki-1647'],\n",
       "       ['csv-23', 'wiki-1443'],\n",
       "       ['csv-12', 'wiki-1901'],\n",
       "       ['csv-60', 'wiki-634'],\n",
       "       ['csv-58', 'wiki-2219'],\n",
       "       ['csv-14', 'wiki-1059'],\n",
       "       ['csv-28', 'wiki-1788'],\n",
       "       ['csv-35', 'wiki-528'],\n",
       "       ['csv-54', 'wiki-1757'],\n",
       "       ['csv-16', 'wiki-1398'],\n",
       "       ['csv-21', 'wiki-1731'],\n",
       "       ['csv-29', 'wiki-1700'],\n",
       "       ['csv-1', 'wiki-662'],\n",
       "       ['csv-24', 'wiki-1430'],\n",
       "       ['csv-51', 'wiki-2441'],\n",
       "       ['csv-45', 'wiki-1557'],\n",
       "       ['csv-59', 'wiki-1127'],\n",
       "       ['csv-25', 'wiki-305'],\n",
       "       ['csv-49', 'wiki-984'],\n",
       "       ['csv-7', 'wiki-2256'],\n",
       "       ['csv-11', 'wiki-809'],\n",
       "       ['csv-26', 'wiki-225'],\n",
       "       ['csv-9', 'wiki-1720'],\n",
       "       ['csv-63', 'wiki-1303'],\n",
       "       ['csv-15', 'wiki-46'],\n",
       "       ['csv-18', 'wiki-691'],\n",
       "       ['csv-43', 'wiki-173'],\n",
       "       ['csv-57', 'wiki-2391'],\n",
       "       ['csv-5', 'wiki-1896'],\n",
       "       ['csv-50', 'wiki-1738'],\n",
       "       ['csv-69', 'wiki-2278'],\n",
       "       ['csv-64', 'wiki-254'],\n",
       "       ['csv-47', 'wiki-2040'],\n",
       "       ['csv-73', 'wiki-1253'],\n",
       "       ['csv-6', 'wiki-1580'],\n",
       "       ['csv-36', 'wiki-1304'],\n",
       "       ['csv-40', 'wiki-2413'],\n",
       "       ['csv-68', 'wiki-1963'],\n",
       "       ['csv-46', 'wiki-1692'],\n",
       "       ['csv-30', 'wiki-1584'],\n",
       "       ['csv-59', 'wiki-1134'],\n",
       "       ['csv-70', 'wiki-746'],\n",
       "       ['csv-3', 'wiki-2487'],\n",
       "       ['csv-73', 'wiki-2483'],\n",
       "       ['csv-32', 'wiki-2438'],\n",
       "       ['csv-72', 'wiki-1748'],\n",
       "       ['csv-46', 'wiki-386'],\n",
       "       ['csv-25', 'wiki-821'],\n",
       "       ['csv-26', 'wiki-2490'],\n",
       "       ['csv-33', 'wiki-1731'],\n",
       "       ['csv-62', 'wiki-2156'],\n",
       "       ['csv-23', 'wiki-476'],\n",
       "       ['csv-21', 'wiki-2499'],\n",
       "       ['csv-42', 'wiki-2125'],\n",
       "       ['csv-68', 'wiki-1188'],\n",
       "       ['csv-16', 'wiki-1485'],\n",
       "       ['csv-28', 'wiki-181'],\n",
       "       ['csv-50', 'wiki-1557'],\n",
       "       ['csv-6', 'wiki-412'],\n",
       "       ['csv-58', 'wiki-422'],\n",
       "       ['csv-24', 'wiki-1449'],\n",
       "       ['csv-57', 'wiki-268'],\n",
       "       ['csv-35', 'wiki-522'],\n",
       "       ['csv-9', 'wiki-1483'],\n",
       "       ['csv-20', 'wiki-314'],\n",
       "       ['csv-40', 'wiki-562'],\n",
       "       ['csv-22', 'wiki-2139'],\n",
       "       ['csv-53', 'wiki-1281'],\n",
       "       ['csv-64', 'wiki-1800'],\n",
       "       ['csv-67', 'wiki-144'],\n",
       "       ['csv-52', 'wiki-2101'],\n",
       "       ['csv-56', 'wiki-1423'],\n",
       "       ['csv-45', 'wiki-1509'],\n",
       "       ['csv-19', 'wiki-1914'],\n",
       "       ['csv-36', 'wiki-547'],\n",
       "       ['csv-61', 'wiki-1804'],\n",
       "       ['csv-74', 'wiki-114'],\n",
       "       ['csv-7', 'wiki-609'],\n",
       "       ['csv-63', 'wiki-852'],\n",
       "       ['csv-47', 'wiki-833'],\n",
       "       ['csv-71', 'wiki-125'],\n",
       "       ['csv-29', 'wiki-1801'],\n",
       "       ['csv-66', 'wiki-449'],\n",
       "       ['csv-8', 'wiki-1279'],\n",
       "       ['csv-13', 'wiki-450'],\n",
       "       ['csv-44', 'wiki-774'],\n",
       "       ['csv-76', 'wiki-2241'],\n",
       "       ['csv-27', 'wiki-122'],\n",
       "       ['csv-69', 'wiki-820'],\n",
       "       ['csv-30', 'wiki-2350'],\n",
       "       ['csv-15', 'wiki-1312'],\n",
       "       ['csv-65', 'wiki-1719'],\n",
       "       ['csv-60', 'wiki-1158'],\n",
       "       ['csv-0', 'wiki-1260'],\n",
       "       ['csv-75', 'wiki-537'],\n",
       "       ['csv-17', 'wiki-845'],\n",
       "       ['csv-5', 'wiki-1089'],\n",
       "       ['csv-31', 'wiki-1308'],\n",
       "       ['csv-39', 'wiki-1161'],\n",
       "       ['csv-11', 'wiki-1559'],\n",
       "       ['csv-34', 'wiki-885'],\n",
       "       ['csv-55', 'wiki-427'],\n",
       "       ['csv-51', 'wiki-231'],\n",
       "       ['csv-10', 'wiki-1339'],\n",
       "       ['csv-18', 'wiki-1133'],\n",
       "       ['csv-4', 'wiki-452'],\n",
       "       ['csv-43', 'wiki-2312'],\n",
       "       ['csv-49', 'wiki-2364'],\n",
       "       ['csv-1', 'wiki-1558'],\n",
       "       ['csv-54', 'wiki-2159'],\n",
       "       ['csv-14', 'wiki-1203'],\n",
       "       ['csv-48', 'wiki-2375'],\n",
       "       ['csv-12', 'wiki-301']], dtype=object)"
      ]
     },
     "execution_count": 37,
     "metadata": {},
     "output_type": "execute_result"
    }
   ],
   "source": [
    "edge_ids_train"
   ]
  },
  {
   "cell_type": "code",
   "execution_count": 32,
   "id": "ea51fd9e",
   "metadata": {},
   "outputs": [],
   "source": [
    "head_node_types = [\"wiki\",\"csv\"]\n",
    "if edge_ids_train[0][0].find(\"csv\") >= 0:\n",
    "    head_node_types = [\"csv\", \"wiki\"]"
   ]
  },
  {
   "cell_type": "code",
   "execution_count": 33,
   "id": "3c785e42",
   "metadata": {},
   "outputs": [],
   "source": [
    "train_gen = make_generate(G_train, head_node_types, args)"
   ]
  },
  {
   "cell_type": "code",
   "execution_count": 34,
   "id": "db170b71",
   "metadata": {},
   "outputs": [
    {
     "data": {
      "text/plain": [
       "<stellargraph.mapper.sampled_link_generators.HinSAGELinkGenerator at 0x7f4df75e4390>"
      ]
     },
     "execution_count": 34,
     "metadata": {},
     "output_type": "execute_result"
    }
   ],
   "source": [
    "train_gen."
   ]
  },
  {
   "cell_type": "code",
   "execution_count": 29,
   "id": "bc561034",
   "metadata": {},
   "outputs": [
    {
     "data": {
      "text/plain": [
       "array([['csv-30', 'wiki-2196'],\n",
       "       ['csv-37', 'wiki-2148'],\n",
       "       ['csv-28', 'wiki-2045'],\n",
       "       ['csv-76', 'wiki-558'],\n",
       "       ['csv-71', 'wiki-1867'],\n",
       "       ['csv-35', 'wiki-764'],\n",
       "       ['csv-25', 'wiki-1121'],\n",
       "       ['csv-48', 'wiki-119'],\n",
       "       ['csv-30', 'wiki-1821'],\n",
       "       ['csv-25', 'wiki-1867'],\n",
       "       ['csv-38', 'wiki-1736'],\n",
       "       ['csv-7', 'wiki-1225'],\n",
       "       ['csv-46', 'wiki-819'],\n",
       "       ['csv-56', 'wiki-1431'],\n",
       "       ['csv-65', 'wiki-1252'],\n",
       "       ['csv-75', 'wiki-1922'],\n",
       "       ['csv-1', 'wiki-385'],\n",
       "       ['csv-33', 'wiki-1479'],\n",
       "       ['csv-73', 'wiki-2052'],\n",
       "       ['csv-29', 'wiki-535'],\n",
       "       ['csv-47', 'wiki-2145'],\n",
       "       ['csv-51', 'wiki-1735'],\n",
       "       ['csv-37', 'wiki-1814'],\n",
       "       ['csv-37', 'wiki-2509'],\n",
       "       ['csv-57', 'wiki-186'],\n",
       "       ['csv-57', 'wiki-1225'],\n",
       "       ['csv-41', 'wiki-514'],\n",
       "       ['csv-19', 'wiki-1070'],\n",
       "       ['csv-17', 'wiki-1028'],\n",
       "       ['csv-4', 'wiki-1135'],\n",
       "       ['csv-33', 'wiki-1987'],\n",
       "       ['csv-51', 'wiki-1692'],\n",
       "       ['csv-5', 'wiki-1195'],\n",
       "       ['csv-14', 'wiki-913'],\n",
       "       ['csv-54', 'wiki-2327'],\n",
       "       ['csv-69', 'wiki-1340'],\n",
       "       ['csv-7', 'wiki-1980'],\n",
       "       ['csv-38', 'wiki-2294'],\n",
       "       ['csv-19', 'wiki-2054'],\n",
       "       ['csv-11', 'wiki-692'],\n",
       "       ['csv-38', 'wiki-2325'],\n",
       "       ['csv-26', 'wiki-1717'],\n",
       "       ['csv-5', 'wiki-2245'],\n",
       "       ['csv-32', 'wiki-692'],\n",
       "       ['csv-56', 'wiki-228'],\n",
       "       ['csv-41', 'wiki-1125'],\n",
       "       ['csv-44', 'wiki-186'],\n",
       "       ['csv-28', 'wiki-2490'],\n",
       "       ['csv-73', 'wiki-2032'],\n",
       "       ['csv-24', 'wiki-1335'],\n",
       "       ['csv-35', 'wiki-2445'],\n",
       "       ['csv-28', 'wiki-1855'],\n",
       "       ['csv-68', 'wiki-2095'],\n",
       "       ['csv-49', 'wiki-508'],\n",
       "       ['csv-35', 'wiki-1908'],\n",
       "       ['csv-49', 'wiki-2126'],\n",
       "       ['csv-22', 'wiki-256'],\n",
       "       ['csv-50', 'wiki-77'],\n",
       "       ['csv-14', 'wiki-1348'],\n",
       "       ['csv-6', 'wiki-2445'],\n",
       "       ['csv-53', 'wiki-1312'],\n",
       "       ['csv-60', 'wiki-263'],\n",
       "       ['csv-24', 'wiki-1225'],\n",
       "       ['csv-42', 'wiki-2208'],\n",
       "       ['csv-22', 'wiki-578'],\n",
       "       ['csv-51', 'wiki-124'],\n",
       "       ['csv-64', 'wiki-144'],\n",
       "       ['csv-51', 'wiki-2088'],\n",
       "       ['csv-1', 'wiki-508'],\n",
       "       ['csv-10', 'wiki-1980'],\n",
       "       ['csv-24', 'wiki-587'],\n",
       "       ['csv-66', 'wiki-1727'],\n",
       "       ['csv-76', 'wiki-508'],\n",
       "       ['csv-42', 'wiki-137'],\n",
       "       ['csv-48', 'wiki-695'],\n",
       "       ['csv-42', 'wiki-2117'],\n",
       "       ['csv-7', 'wiki-401'],\n",
       "       ['csv-57', 'wiki-2494'],\n",
       "       ['csv-37', 'wiki-2049'],\n",
       "       ['csv-70', 'wiki-155'],\n",
       "       ['csv-2', 'wiki-1913'],\n",
       "       ['csv-60', 'wiki-909'],\n",
       "       ['csv-70', 'wiki-508'],\n",
       "       ['csv-24', 'wiki-1881'],\n",
       "       ['csv-62', 'wiki-1227'],\n",
       "       ['csv-21', 'wiki-1168'],\n",
       "       ['csv-10', 'wiki-1867'],\n",
       "       ['csv-41', 'wiki-908'],\n",
       "       ['csv-14', 'wiki-723'],\n",
       "       ['csv-59', 'wiki-1913'],\n",
       "       ['csv-51', 'wiki-913'],\n",
       "       ['csv-15', 'wiki-2059'],\n",
       "       ['csv-28', 'wiki-350'],\n",
       "       ['csv-76', 'wiki-1638'],\n",
       "       ['csv-9', 'wiki-1881'],\n",
       "       ['csv-48', 'wiki-1593'],\n",
       "       ['csv-76', 'wiki-947'],\n",
       "       ['csv-21', 'wiki-1006'],\n",
       "       ['csv-60', 'wiki-730'],\n",
       "       ['csv-69', 'wiki-1362'],\n",
       "       ['csv-65', 'wiki-333'],\n",
       "       ['csv-43', 'wiki-401'],\n",
       "       ['csv-75', 'wiki-1300'],\n",
       "       ['csv-35', 'wiki-1479'],\n",
       "       ['csv-5', 'wiki-510'],\n",
       "       ['csv-51', 'wiki-1394'],\n",
       "       ['csv-40', 'wiki-96'],\n",
       "       ['csv-2', 'wiki-558'],\n",
       "       ['csv-28', 'wiki-151'],\n",
       "       ['csv-18', 'wiki-1732'],\n",
       "       ['csv-60', 'wiki-490'],\n",
       "       ['csv-40', 'wiki-1847'],\n",
       "       ['csv-51', 'wiki-1855'],\n",
       "       ['csv-50', 'wiki-1348'],\n",
       "       ['csv-29', 'wiki-973'],\n",
       "       ['csv-6', 'wiki-647'],\n",
       "       ['csv-76', 'wiki-758'],\n",
       "       ['csv-35', 'wiki-1646'],\n",
       "       ['csv-35', 'wiki-125'],\n",
       "       ['csv-51', 'wiki-1383'],\n",
       "       ['csv-72', 'wiki-1699'],\n",
       "       ['csv-41', 'wiki-680'],\n",
       "       ['csv-47', 'wiki-1126'],\n",
       "       ['csv-65', 'wiki-1881'],\n",
       "       ['csv-58', 'wiki-2294'],\n",
       "       ['csv-40', 'wiki-1913'],\n",
       "       ['csv-38', 'wiki-1281'],\n",
       "       ['csv-30', 'wiki-688'],\n",
       "       ['csv-7', 'wiki-1380'],\n",
       "       ['csv-9', 'wiki-419'],\n",
       "       ['csv-50', 'wiki-443'],\n",
       "       ['csv-37', 'wiki-2245'],\n",
       "       ['csv-47', 'wiki-1168'],\n",
       "       ['csv-6', 'wiki-2169'],\n",
       "       ['csv-67', 'wiki-1225'],\n",
       "       ['csv-52', 'wiki-724'],\n",
       "       ['csv-25', 'wiki-1048'],\n",
       "       ['csv-50', 'wiki-1196'],\n",
       "       ['csv-42', 'wiki-1633'],\n",
       "       ['csv-7', 'wiki-1383'],\n",
       "       ['csv-69', 'wiki-769'],\n",
       "       ['csv-76', 'wiki-2445'],\n",
       "       ['csv-75', 'wiki-483'],\n",
       "       ['csv-4', 'wiki-1405'],\n",
       "       ['csv-38', 'wiki-1633'],\n",
       "       ['csv-55', 'wiki-2048'],\n",
       "       ['csv-7', 'wiki-1805'],\n",
       "       ['csv-72', 'wiki-1675'],\n",
       "       ['csv-39', 'wiki-878'],\n",
       "       ['csv-2', 'wiki-1552'],\n",
       "       ['csv-17', 'wiki-803'],\n",
       "       ['csv-4', 'wiki-1296'],\n",
       "       ['csv-52', 'wiki-1415'],\n",
       "       ['csv-31', 'wiki-699'],\n",
       "       ['csv-72', 'wiki-1113'],\n",
       "       ['csv-76', 'wiki-2025'],\n",
       "       ['csv-53', 'wiki-494'],\n",
       "       ['csv-55', 'wiki-720'],\n",
       "       ['csv-75', 'wiki-1702'],\n",
       "       ['csv-67', 'wiki-93'],\n",
       "       ['csv-66', 'wiki-2218'],\n",
       "       ['csv-33', 'wiki-378'],\n",
       "       ['csv-42', 'wiki-638'],\n",
       "       ['csv-20', 'wiki-594'],\n",
       "       ['csv-44', 'wiki-1130'],\n",
       "       ['csv-38', 'wiki-460'],\n",
       "       ['csv-61', 'wiki-1701'],\n",
       "       ['csv-8', 'wiki-2304'],\n",
       "       ['csv-13', 'wiki-449'],\n",
       "       ['csv-62', 'wiki-987'],\n",
       "       ['csv-19', 'wiki-1283'],\n",
       "       ['csv-56', 'wiki-56'],\n",
       "       ['csv-3', 'wiki-814'],\n",
       "       ['csv-22', 'wiki-440'],\n",
       "       ['csv-70', 'wiki-698'],\n",
       "       ['csv-10', 'wiki-843'],\n",
       "       ['csv-74', 'wiki-2275'],\n",
       "       ['csv-48', 'wiki-937'],\n",
       "       ['csv-71', 'wiki-1547'],\n",
       "       ['csv-0', 'wiki-1601'],\n",
       "       ['csv-27', 'wiki-1809'],\n",
       "       ['csv-37', 'wiki-387'],\n",
       "       ['csv-65', 'wiki-860'],\n",
       "       ['csv-32', 'wiki-1647'],\n",
       "       ['csv-23', 'wiki-1443'],\n",
       "       ['csv-12', 'wiki-1901'],\n",
       "       ['csv-60', 'wiki-634'],\n",
       "       ['csv-58', 'wiki-2219'],\n",
       "       ['csv-14', 'wiki-1059'],\n",
       "       ['csv-28', 'wiki-1788'],\n",
       "       ['csv-35', 'wiki-528'],\n",
       "       ['csv-54', 'wiki-1757'],\n",
       "       ['csv-16', 'wiki-1398'],\n",
       "       ['csv-21', 'wiki-1731'],\n",
       "       ['csv-29', 'wiki-1700'],\n",
       "       ['csv-1', 'wiki-662'],\n",
       "       ['csv-24', 'wiki-1430'],\n",
       "       ['csv-51', 'wiki-2441'],\n",
       "       ['csv-45', 'wiki-1557'],\n",
       "       ['csv-59', 'wiki-1127'],\n",
       "       ['csv-25', 'wiki-305'],\n",
       "       ['csv-49', 'wiki-984'],\n",
       "       ['csv-7', 'wiki-2256'],\n",
       "       ['csv-11', 'wiki-809'],\n",
       "       ['csv-26', 'wiki-225'],\n",
       "       ['csv-9', 'wiki-1720'],\n",
       "       ['csv-63', 'wiki-1303'],\n",
       "       ['csv-15', 'wiki-46'],\n",
       "       ['csv-18', 'wiki-691'],\n",
       "       ['csv-43', 'wiki-173'],\n",
       "       ['csv-57', 'wiki-2391'],\n",
       "       ['csv-5', 'wiki-1896'],\n",
       "       ['csv-50', 'wiki-1738'],\n",
       "       ['csv-69', 'wiki-2278'],\n",
       "       ['csv-64', 'wiki-254'],\n",
       "       ['csv-47', 'wiki-2040'],\n",
       "       ['csv-73', 'wiki-1253'],\n",
       "       ['csv-6', 'wiki-1580'],\n",
       "       ['csv-36', 'wiki-1304'],\n",
       "       ['csv-40', 'wiki-2413'],\n",
       "       ['csv-68', 'wiki-1963'],\n",
       "       ['csv-46', 'wiki-1692'],\n",
       "       ['csv-30', 'wiki-1584'],\n",
       "       ['csv-59', 'wiki-1134'],\n",
       "       ['csv-70', 'wiki-746'],\n",
       "       ['csv-3', 'wiki-2487'],\n",
       "       ['csv-73', 'wiki-2483'],\n",
       "       ['csv-32', 'wiki-2438'],\n",
       "       ['csv-72', 'wiki-1748'],\n",
       "       ['csv-46', 'wiki-386'],\n",
       "       ['csv-25', 'wiki-821'],\n",
       "       ['csv-26', 'wiki-2490'],\n",
       "       ['csv-33', 'wiki-1731'],\n",
       "       ['csv-62', 'wiki-2156'],\n",
       "       ['csv-23', 'wiki-476'],\n",
       "       ['csv-21', 'wiki-2499'],\n",
       "       ['csv-42', 'wiki-2125'],\n",
       "       ['csv-68', 'wiki-1188'],\n",
       "       ['csv-16', 'wiki-1485'],\n",
       "       ['csv-28', 'wiki-181'],\n",
       "       ['csv-50', 'wiki-1557'],\n",
       "       ['csv-6', 'wiki-412'],\n",
       "       ['csv-58', 'wiki-422'],\n",
       "       ['csv-24', 'wiki-1449'],\n",
       "       ['csv-57', 'wiki-268'],\n",
       "       ['csv-35', 'wiki-522'],\n",
       "       ['csv-9', 'wiki-1483'],\n",
       "       ['csv-20', 'wiki-314'],\n",
       "       ['csv-40', 'wiki-562'],\n",
       "       ['csv-22', 'wiki-2139'],\n",
       "       ['csv-53', 'wiki-1281'],\n",
       "       ['csv-64', 'wiki-1800'],\n",
       "       ['csv-67', 'wiki-144'],\n",
       "       ['csv-52', 'wiki-2101'],\n",
       "       ['csv-56', 'wiki-1423'],\n",
       "       ['csv-45', 'wiki-1509'],\n",
       "       ['csv-19', 'wiki-1914'],\n",
       "       ['csv-36', 'wiki-547'],\n",
       "       ['csv-61', 'wiki-1804'],\n",
       "       ['csv-74', 'wiki-114'],\n",
       "       ['csv-7', 'wiki-609'],\n",
       "       ['csv-63', 'wiki-852'],\n",
       "       ['csv-47', 'wiki-833'],\n",
       "       ['csv-71', 'wiki-125'],\n",
       "       ['csv-29', 'wiki-1801'],\n",
       "       ['csv-66', 'wiki-449'],\n",
       "       ['csv-8', 'wiki-1279'],\n",
       "       ['csv-13', 'wiki-450'],\n",
       "       ['csv-44', 'wiki-774'],\n",
       "       ['csv-76', 'wiki-2241'],\n",
       "       ['csv-27', 'wiki-122'],\n",
       "       ['csv-69', 'wiki-820'],\n",
       "       ['csv-30', 'wiki-2350'],\n",
       "       ['csv-15', 'wiki-1312'],\n",
       "       ['csv-65', 'wiki-1719'],\n",
       "       ['csv-60', 'wiki-1158'],\n",
       "       ['csv-0', 'wiki-1260'],\n",
       "       ['csv-75', 'wiki-537'],\n",
       "       ['csv-17', 'wiki-845'],\n",
       "       ['csv-5', 'wiki-1089'],\n",
       "       ['csv-31', 'wiki-1308'],\n",
       "       ['csv-39', 'wiki-1161'],\n",
       "       ['csv-11', 'wiki-1559'],\n",
       "       ['csv-34', 'wiki-885'],\n",
       "       ['csv-55', 'wiki-427'],\n",
       "       ['csv-51', 'wiki-231'],\n",
       "       ['csv-10', 'wiki-1339'],\n",
       "       ['csv-18', 'wiki-1133'],\n",
       "       ['csv-4', 'wiki-452'],\n",
       "       ['csv-43', 'wiki-2312'],\n",
       "       ['csv-49', 'wiki-2364'],\n",
       "       ['csv-1', 'wiki-1558'],\n",
       "       ['csv-54', 'wiki-2159'],\n",
       "       ['csv-14', 'wiki-1203'],\n",
       "       ['csv-48', 'wiki-2375'],\n",
       "       ['csv-12', 'wiki-301']], dtype=object)"
      ]
     },
     "execution_count": 29,
     "metadata": {},
     "output_type": "execute_result"
    }
   ],
   "source": [
    "edge_ids_train"
   ]
  },
  {
   "cell_type": "code",
   "execution_count": 28,
   "id": "fcede177",
   "metadata": {},
   "outputs": [
    {
     "name": "stdout",
     "output_type": "stream",
     "text": [
      "StellarGraph: Undirected multigraph\n",
      " Nodes: 2589, Edges: 7093\n",
      "\n",
      " Node types:\n",
      "  wiki: [2512]\n",
      "    Features: float32 vector, length 128\n",
      "    Edge types: wiki-default->csv\n",
      "  csv: [77]\n",
      "    Features: float32 vector, length 128\n",
      "    Edge types: csv-default->wiki\n",
      "\n",
      " Edge types:\n",
      "    csv-default->wiki: [7093]\n",
      "        Weights: all 1 (default)\n",
      "        Features: none\n"
     ]
    }
   ],
   "source": [
    "print(G_test.info())"
   ]
  },
  {
   "cell_type": "code",
   "execution_count": 27,
   "id": "3ec7387b",
   "metadata": {},
   "outputs": [
    {
     "name": "stdout",
     "output_type": "stream",
     "text": [
      "StellarGraph: Undirected multigraph\n",
      " Nodes: 2589, Edges: 6945\n",
      "\n",
      " Node types:\n",
      "  wiki: [2512]\n",
      "    Features: float32 vector, length 128\n",
      "    Edge types: wiki-default->csv\n",
      "  csv: [77]\n",
      "    Features: float32 vector, length 128\n",
      "    Edge types: csv-default->wiki\n",
      "\n",
      " Edge types:\n",
      "    csv-default->wiki: [6945]\n",
      "        Weights: all 1 (default)\n",
      "        Features: none\n"
     ]
    }
   ],
   "source": [
    "print(G_train.info())"
   ]
  },
  {
   "cell_type": "code",
   "execution_count": 78,
   "id": "babd0d0d",
   "metadata": {},
   "outputs": [],
   "source": [
    "hinsage = HinSAGE(\n",
    "                  layer_sizes = [32,8],\n",
    "                  generator = train_gen,\n",
    "                  bias = True,\n",
    "                  dropout = 0.4\n",
    "                  )\n",
    "x_inp, x_out = hinsage.in_out_tensors()"
   ]
  },
  {
   "cell_type": "code",
   "execution_count": 82,
   "id": "27b4b6eb",
   "metadata": {},
   "outputs": [
    {
     "name": "stdout",
     "output_type": "stream",
     "text": [
      "link_classification: using 'ip' method to combine node embeddings into edge embeddings\n"
     ]
    },
    {
     "data": {
      "text/plain": [
       "<function stellargraph.layer.link_inference.link_inference.<locals>.edge_function(x)>"
      ]
     },
     "execution_count": 82,
     "metadata": {},
     "output_type": "execute_result"
    }
   ],
   "source": [
    "link_classification()"
   ]
  },
  {
   "cell_type": "code",
   "execution_count": 80,
   "id": "b3d5ee91",
   "metadata": {
    "scrolled": false
   },
   "outputs": [
    {
     "name": "stdout",
     "output_type": "stream",
     "text": [
      "link_classification: using 'ip' method to combine node embeddings into edge embeddings\n"
     ]
    },
    {
     "data": {
      "text/plain": [
       "<KerasTensor: shape=(None, 1) dtype=float32 (created by layer 'reshape_48')>"
      ]
     },
     "execution_count": 80,
     "metadata": {},
     "output_type": "execute_result"
    }
   ],
   "source": [
    "link_classification(edge_embedding_method = \"ip\")(x_out)"
   ]
  },
  {
   "cell_type": "code",
   "execution_count": 74,
   "id": "40db5d0c",
   "metadata": {
    "scrolled": true
   },
   "outputs": [
    {
     "data": {
      "text/plain": [
       "([<KerasTensor: shape=(None, 1, 128) dtype=float32 (created by layer 'input_7')>,\n",
       "  <KerasTensor: shape=(None, 1, 128) dtype=float32 (created by layer 'input_8')>,\n",
       "  <KerasTensor: shape=(None, 4, 128) dtype=float32 (created by layer 'input_9')>,\n",
       "  <KerasTensor: shape=(None, 4, 128) dtype=float32 (created by layer 'input_10')>,\n",
       "  <KerasTensor: shape=(None, 8, 128) dtype=float32 (created by layer 'input_11')>,\n",
       "  <KerasTensor: shape=(None, 8, 128) dtype=float32 (created by layer 'input_12')>],\n",
       " [<KerasTensor: shape=(None, 4) dtype=float32 (created by layer 'lambda_2')>,\n",
       "  <KerasTensor: shape=(None, 4) dtype=float32 (created by layer 'lambda_2')>])"
      ]
     },
     "execution_count": 74,
     "metadata": {},
     "output_type": "execute_result"
    }
   ],
   "source": [
    "hinsage.in_out_tensors()"
   ]
  },
  {
   "cell_type": "code",
   "execution_count": 40,
   "id": "cc582b46",
   "metadata": {},
   "outputs": [],
   "source": [
    "train_flow = train_gen.flow(edge_ids_train, edge_labels_train, shuffle = True)\n"
   ]
  },
  {
   "cell_type": "code",
   "execution_count": 42,
   "id": "dbdef028",
   "metadata": {},
   "outputs": [
    {
     "data": {
      "text/plain": [
       "296"
      ]
     },
     "execution_count": 42,
     "metadata": {},
     "output_type": "execute_result"
    }
   ],
   "source": [
    "train_flow.data_size"
   ]
  },
  {
   "cell_type": "code",
   "execution_count": 45,
   "id": "16f60978",
   "metadata": {},
   "outputs": [
    {
     "data": {
      "text/plain": [
       "200"
      ]
     },
     "execution_count": 45,
     "metadata": {},
     "output_type": "execute_result"
    }
   ],
   "source": [
    "train_flow.batch_size"
   ]
  },
  {
   "cell_type": "code",
   "execution_count": 65,
   "id": "12d533a5",
   "metadata": {},
   "outputs": [
    {
     "data": {
      "text/plain": [
       "(200, 1, 128)"
      ]
     },
     "execution_count": 65,
     "metadata": {},
     "output_type": "execute_result"
    }
   ],
   "source": [
    "next(iter(train_flow))[0][0].shape"
   ]
  },
  {
   "cell_type": "code",
   "execution_count": 66,
   "id": "1c0c6e65",
   "metadata": {},
   "outputs": [
    {
     "data": {
      "text/plain": [
       "(200, 1, 128)"
      ]
     },
     "execution_count": 66,
     "metadata": {},
     "output_type": "execute_result"
    }
   ],
   "source": [
    "next(iter(train_flow))[0][1].shape"
   ]
  },
  {
   "cell_type": "code",
   "execution_count": 70,
   "id": "7beead59",
   "metadata": {},
   "outputs": [
    {
     "data": {
      "text/plain": [
       "(200, 8, 128)"
      ]
     },
     "execution_count": 70,
     "metadata": {},
     "output_type": "execute_result"
    }
   ],
   "source": [
    "next(iter(train_flow))[0][5].shape"
   ]
  },
  {
   "cell_type": "code",
   "execution_count": 51,
   "id": "88f06ae3",
   "metadata": {},
   "outputs": [
    {
     "data": {
      "text/plain": [
       "(200,)"
      ]
     },
     "execution_count": 51,
     "metadata": {},
     "output_type": "execute_result"
    }
   ],
   "source": [
    "next(iter(train_flow))[1].shape"
   ]
  },
  {
   "cell_type": "markdown",
   "id": "215365dc",
   "metadata": {},
   "source": [
    "# keras\n",
    "\n",
    "https://keras.io/examples/vision/supervised-contrastive-learning/"
   ]
  },
  {
   "cell_type": "code",
   "execution_count": 85,
   "id": "96ad9887",
   "metadata": {},
   "outputs": [],
   "source": [
    "import tensorflow as tf\n",
    "import tensorflow_addons as tfa\n",
    "import numpy as np\n",
    "from tensorflow import keras\n",
    "from tensorflow.keras import layers"
   ]
  },
  {
   "cell_type": "code",
   "execution_count": 86,
   "id": "1c79ea3f",
   "metadata": {},
   "outputs": [
    {
     "name": "stdout",
     "output_type": "stream",
     "text": [
      "Downloading data from https://www.cs.toronto.edu/~kriz/cifar-10-python.tar.gz\n",
      "170500096/170498071 [==============================] - 39s 0us/step\n",
      "170508288/170498071 [==============================] - 39s 0us/step\n",
      "x_train shape: (50000, 32, 32, 3) - y_train shape: (50000, 1)\n",
      "x_test shape: (10000, 32, 32, 3) - y_test shape: (10000, 1)\n"
     ]
    }
   ],
   "source": [
    "num_classes = 10\n",
    "input_shape = (32, 32, 3)\n",
    "\n",
    "# Load the train and test data splits\n",
    "(x_train, y_train), (x_test, y_test) = keras.datasets.cifar10.load_data()\n",
    "\n",
    "# Display shapes of train and test datasets\n",
    "print(f\"x_train shape: {x_train.shape} - y_train shape: {y_train.shape}\")\n",
    "print(f\"x_test shape: {x_test.shape} - y_test shape: {y_test.shape}\")"
   ]
  },
  {
   "cell_type": "code",
   "execution_count": 89,
   "id": "d9d8c608",
   "metadata": {},
   "outputs": [],
   "source": [
    "data_augmentation = keras.Sequential(\n",
    "[\n",
    "    layers.Normalization(),\n",
    "    layers.RandomFlip(\"horizontal\"),\n",
    "    layers.RandomRotation(0.02),\n",
    "    layers.RandomWidth(0.2),\n",
    "    layers.RandomHeight(0.2),\n",
    "])\n",
    "\n",
    "data_augmentation.layers[0].adapt(x_train)"
   ]
  },
  {
   "cell_type": "code",
   "execution_count": 95,
   "id": "c65e54ab",
   "metadata": {},
   "outputs": [],
   "source": [
    "def create_encoder():\n",
    "    resnet = keras.applications.ResNet50V2(\n",
    "        include_top = False, weights = None, input_shape = input_shape, pooling = \"avg\"\n",
    "    )\n",
    "    inputs = keras.Input(shape = input_shape)\n",
    "    augmented = data_augmentation(inputs)\n",
    "    outputs = resnet(augmented)\n",
    "    \n",
    "    model = keras.Model(inputs = inputs, outputs = outputs, name = \"cifar10-encoder\")\n",
    "    return model"
   ]
  },
  {
   "cell_type": "code",
   "execution_count": 102,
   "id": "8baf808d",
   "metadata": {},
   "outputs": [
    {
     "name": "stdout",
     "output_type": "stream",
     "text": [
      "Model: \"cifar10-encoder\"\n",
      "_________________________________________________________________\n",
      "Layer (type)                 Output Shape              Param #   \n",
      "=================================================================\n",
      "input_49 (InputLayer)        [(None, 32, 32, 3)]       0         \n",
      "_________________________________________________________________\n",
      "sequential_2 (Sequential)    (None, None, None, 3)     7         \n",
      "_________________________________________________________________\n",
      "resnet50v2 (Functional)      (None, 2048)              23564800  \n",
      "=================================================================\n",
      "Total params: 23,564,807\n",
      "Trainable params: 23,519,360\n",
      "Non-trainable params: 45,447\n",
      "_________________________________________________________________\n"
     ]
    }
   ],
   "source": [
    "encoder = create_encoder()\n",
    "encoder.summary()\n",
    "\n",
    "learning_rate = 0.001\n",
    "batch_size = 265\n",
    "hidden_units = 512\n",
    "projection_units = 128\n",
    "num_epochs = 10\n",
    "dropout_rate = 0.5\n",
    "temperature = 0.05"
   ]
  },
  {
   "cell_type": "code",
   "execution_count": 99,
   "id": "a74a2345",
   "metadata": {},
   "outputs": [
    {
     "name": "stdout",
     "output_type": "stream",
     "text": [
      "<keras.engine.input_layer.InputLayer object at 0x7f4d9b5ef2b0>\n",
      "<keras.engine.sequential.Sequential object at 0x7f4dd1223630>\n",
      "<keras.engine.functional.Functional object at 0x7f4dd08a5f28>\n"
     ]
    }
   ],
   "source": [
    "for layer in encoder.layers:\n",
    "    print(layer)"
   ]
  },
  {
   "cell_type": "code",
   "execution_count": 100,
   "id": "5e035016",
   "metadata": {},
   "outputs": [],
   "source": [
    "def create_classifier(encoder, trainable = True):\n",
    "    for layer in encoder.layers:\n",
    "        layer.trainable = trainable\n",
    "    \n",
    "    inputs = keras.Input(input_shape)\n",
    "    features = encoder(inputs)\n",
    "    features = layers.Dropout(dropout_rate)(features)\n",
    "    features = layers.Dense(hidden_units, activation = \"relu\")(features)\n",
    "    features = layers.Dropout(dropout_rate)(features)\n",
    "    outputs = layers.Dense(num_classes, activation = \"softmax\")(features)\n",
    "    \n",
    "    model = keras.Model(inputs = inputs, outputs = outputs, name = \"cifar10-classifier\")\n",
    "    model.compile(\n",
    "        optimizer = keras.optimizers.Adam(learning_rate),\n",
    "        loss = keras.losses.SparseCategoricalCrossentropy(),\n",
    "        metrics = [keras.metrics.SparseCategoricalAccuracy()],\n",
    "    )\n",
    "    return model"
   ]
  },
  {
   "cell_type": "code",
   "execution_count": 101,
   "id": "8948b3a1",
   "metadata": {
    "scrolled": true
   },
   "outputs": [
    {
     "name": "stdout",
     "output_type": "stream",
     "text": [
      "Model: \"cifar10-classifier\"\n",
      "_________________________________________________________________\n",
      "Layer (type)                 Output Shape              Param #   \n",
      "=================================================================\n",
      "input_47 (InputLayer)        [(None, 32, 32, 3)]       0         \n",
      "_________________________________________________________________\n",
      "cifar10-encoder (Functional) (None, 2048)              23564807  \n",
      "_________________________________________________________________\n",
      "dropout_72 (Dropout)         (None, 2048)              0         \n",
      "_________________________________________________________________\n",
      "dense (Dense)                (None, 512)               1049088   \n",
      "_________________________________________________________________\n",
      "dropout_73 (Dropout)         (None, 512)               0         \n",
      "_________________________________________________________________\n",
      "dense_1 (Dense)              (None, 10)                5130      \n",
      "=================================================================\n",
      "Total params: 24,619,025\n",
      "Trainable params: 24,573,578\n",
      "Non-trainable params: 45,447\n",
      "_________________________________________________________________\n"
     ]
    }
   ],
   "source": [
    "encoder = create_encoder()\n",
    "classifier = create_classifier(encoder)\n",
    "classifier.summary()"
   ]
  },
  {
   "cell_type": "code",
   "execution_count": 103,
   "id": "9e76b265",
   "metadata": {},
   "outputs": [
    {
     "name": "stdout",
     "output_type": "stream",
     "text": [
      "Epoch 1/10\n",
      "189/189 [==============================] - 33s 96ms/step - loss: 1.9435 - sparse_categorical_accuracy: 0.2850\n",
      "Epoch 2/10\n",
      "189/189 [==============================] - 12s 62ms/step - loss: 1.5036 - sparse_categorical_accuracy: 0.4539\n",
      "Epoch 3/10\n",
      "189/189 [==============================] - 13s 67ms/step - loss: 1.3682 - sparse_categorical_accuracy: 0.5113\n",
      "Epoch 4/10\n",
      "189/189 [==============================] - 13s 66ms/step - loss: 1.2228 - sparse_categorical_accuracy: 0.5653\n",
      "Epoch 5/10\n",
      "189/189 [==============================] - 12s 62ms/step - loss: 1.1201 - sparse_categorical_accuracy: 0.6099\n",
      "Epoch 6/10\n",
      "189/189 [==============================] - 13s 67ms/step - loss: 1.0332 - sparse_categorical_accuracy: 0.6413\n",
      "Epoch 7/10\n",
      "189/189 [==============================] - 12s 62ms/step - loss: 1.0280 - sparse_categorical_accuracy: 0.6483\n",
      "Epoch 8/10\n",
      "189/189 [==============================] - 12s 62ms/step - loss: 0.9180 - sparse_categorical_accuracy: 0.6856\n",
      "Epoch 9/10\n",
      "189/189 [==============================] - 12s 61ms/step - loss: 0.8565 - sparse_categorical_accuracy: 0.7059\n",
      "Epoch 10/10\n",
      "189/189 [==============================] - 11s 61ms/step - loss: 0.8097 - sparse_categorical_accuracy: 0.7204\n"
     ]
    }
   ],
   "source": [
    "history = classifier.fit(x=x_train, y=y_train, batch_size=batch_size, epochs=num_epochs)\n"
   ]
  },
  {
   "cell_type": "code",
   "execution_count": 104,
   "id": "d8c6cbad",
   "metadata": {},
   "outputs": [
    {
     "name": "stdout",
     "output_type": "stream",
     "text": [
      "313/313 [==============================] - 8s 23ms/step - loss: 0.9708 - sparse_categorical_accuracy: 0.7124\n",
      "Test accuracy: 71.24%\n"
     ]
    }
   ],
   "source": [
    "accuracy = classifier.evaluate(x_test, y_test)[1]\n",
    "print(f\"Test accuracy: {round(accuracy * 100, 2)}%\")\n"
   ]
  },
  {
   "cell_type": "markdown",
   "id": "64ce288e",
   "metadata": {},
   "source": [
    "# Supervised contrastive learning loss function"
   ]
  },
  {
   "cell_type": "code",
   "execution_count": 106,
   "id": "4a3844e1",
   "metadata": {},
   "outputs": [
    {
     "data": {
      "text/plain": [
       "(10000, 10)"
      ]
     },
     "execution_count": 106,
     "metadata": {},
     "output_type": "execute_result"
    }
   ],
   "source": [
    "class SupervisedContrastiveLoss(keras.losses.Loss):\n",
    "    def __init__(self, temperature = 1, name = None):\n",
    "        super().__init__(name = name)\n",
    "        self.temperature = temperature\n",
    "        \n",
    "    def __call__(self, labels, feature_vectors, sample_weight = None):\n",
    "        # Normalize feature vectors\n",
    "        feature_vectors_normalized = tf.math.l2_normalize(feature_vectors, axis = 1)\n",
    "        logits"
   ]
  },
  {
   "cell_type": "code",
   "execution_count": 113,
   "id": "46d6e51d",
   "metadata": {},
   "outputs": [],
   "source": [
    "x_sample = x_train[:1000]\n",
    "y_sample = y_train[:1000]"
   ]
  },
  {
   "cell_type": "code",
   "execution_count": 117,
   "id": "c13c3ac2",
   "metadata": {},
   "outputs": [
    {
     "name": "stdout",
     "output_type": "stream",
     "text": [
      "Model: \"cifar10-encoder\"\n",
      "_________________________________________________________________\n",
      "Layer (type)                 Output Shape              Param #   \n",
      "=================================================================\n",
      "input_55 (InputLayer)        [(None, 32, 32, 3)]       0         \n",
      "_________________________________________________________________\n",
      "sequential_2 (Sequential)    (None, None, None, 3)     7         \n",
      "_________________________________________________________________\n",
      "resnet50v2 (Functional)      (None, 2048)              23564800  \n",
      "=================================================================\n",
      "Total params: 23,564,807\n",
      "Trainable params: 23,519,360\n",
      "Non-trainable params: 45,447\n",
      "_________________________________________________________________\n"
     ]
    }
   ],
   "source": [
    "encoder = create_encoder()\n",
    "encoder.summary()"
   ]
  },
  {
   "cell_type": "code",
   "execution_count": 120,
   "id": "a6b82c7c",
   "metadata": {},
   "outputs": [
    {
     "data": {
      "text/plain": [
       "(1000, 2048)"
      ]
     },
     "execution_count": 120,
     "metadata": {},
     "output_type": "execute_result"
    }
   ],
   "source": [
    "features = encoder.predict(x_sample)\n",
    "features.shape"
   ]
  },
  {
   "cell_type": "code",
   "execution_count": 139,
   "id": "807c9b8b",
   "metadata": {},
   "outputs": [
    {
     "data": {
      "text/plain": [
       "TensorShape([1000, 128])"
      ]
     },
     "execution_count": 139,
     "metadata": {},
     "output_type": "execute_result"
    }
   ],
   "source": [
    "feature_vectors = layers.Dense(projection_units, activation = \"relu\")(features)\n",
    "feature_vectors.shape"
   ]
  },
  {
   "cell_type": "code",
   "execution_count": 140,
   "id": "2ddf9782",
   "metadata": {},
   "outputs": [
    {
     "data": {
      "text/plain": [
       "TensorShape([1000, 128])"
      ]
     },
     "execution_count": 140,
     "metadata": {},
     "output_type": "execute_result"
    }
   ],
   "source": [
    "feature_vectors_normalized = tf.math.l2_normalize(feature_vectors, axis=1)\n",
    "feature_vectors_normalized.shape"
   ]
  },
  {
   "cell_type": "code",
   "execution_count": 143,
   "id": "aa8b2a22",
   "metadata": {},
   "outputs": [
    {
     "data": {
      "text/plain": [
       "<tf.Tensor: shape=(1000, 1000), dtype=float32, numpy=\n",
       "array([[19.998417, 16.103971, 15.640946, ..., 16.212696, 17.472887,\n",
       "        16.513138],\n",
       "       [16.103971, 19.998217, 16.677961, ..., 17.128334, 17.412415,\n",
       "        17.241516],\n",
       "       [15.640946, 16.677961, 19.998686, ..., 16.481619, 17.336424,\n",
       "        18.919043],\n",
       "       ...,\n",
       "       [16.212696, 17.128334, 16.481619, ..., 19.997494, 16.935738,\n",
       "        17.094456],\n",
       "       [17.472887, 17.412415, 17.336424, ..., 16.935738, 19.999418,\n",
       "        17.63626 ],\n",
       "       [16.513138, 17.241516, 18.919043, ..., 17.094456, 17.63626 ,\n",
       "        20.001211]], dtype=float32)>"
      ]
     },
     "execution_count": 143,
     "metadata": {},
     "output_type": "execute_result"
    }
   ],
   "source": [
    "logits = tf.divide(\n",
    "        tf.matmul(\n",
    "                    feature_vectors_normalized, tf.transpose(feature_vectors_normalized)\n",
    "                ),\n",
    "        temperature\n",
    "    )"
   ]
  },
  {
   "cell_type": "code",
   "execution_count": 142,
   "id": "ea30b9b1",
   "metadata": {},
   "outputs": [
    {
     "data": {
      "text/plain": [
       "0.05"
      ]
     },
     "execution_count": 142,
     "metadata": {},
     "output_type": "execute_result"
    }
   ],
   "source": [
    "temperature"
   ]
  },
  {
   "cell_type": "code",
   "execution_count": null,
   "id": "8129025a",
   "metadata": {},
   "outputs": [],
   "source": []
  }
 ],
 "metadata": {
  "kernelspec": {
   "display_name": "Python 3",
   "language": "python",
   "name": "python3"
  },
  "language_info": {
   "codemirror_mode": {
    "name": "ipython",
    "version": 3
   },
   "file_extension": ".py",
   "mimetype": "text/x-python",
   "name": "python",
   "nbconvert_exporter": "python",
   "pygments_lexer": "ipython3",
   "version": "3.6.2"
  }
 },
 "nbformat": 4,
 "nbformat_minor": 5
}
