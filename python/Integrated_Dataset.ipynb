{
 "cells": [
  {
   "cell_type": "code",
   "execution_count": 1,
   "id": "25d9fc28",
   "metadata": {},
   "outputs": [],
   "source": [
    "import pickle\n",
    "import os"
   ]
  },
  {
   "cell_type": "code",
   "execution_count": 2,
   "id": "474ceeeb",
   "metadata": {},
   "outputs": [],
   "source": [
    "def load_pickle(file_path):\n",
    "    with open(file_path, \"rb\") as f:\n",
    "        return pickle.load(f)"
   ]
  },
  {
   "cell_type": "code",
   "execution_count": 3,
   "id": "f830e04f",
   "metadata": {},
   "outputs": [],
   "source": [
    "Upitt_csv2wiki = load_pickle(\"./Dataset/Upitt/csv2wiki.pickle\")\n",
    "Upitt_wiki2csv = load_pickle(\"./Dataset/Upitt/wiki2csv.pickle\")\n",
    "Upitt_csv_mapping = load_pickle(\"./Dataset/Upitt/csv_mapping_id.pickle\")\n",
    "Upitt_wiki_mapping = load_pickle(\"./Dataset/Upitt/wiki_mapping_id.pickle\")\n",
    "\n",
    "\n",
    "ST_csv2wiki = load_pickle(\"./Dataset/Standford/csv2wiki.pickle\")\n",
    "ST_wiki2csv = load_pickle(\"./Dataset/Standford/wiki2csv.pickle\")\n",
    "ST_csv_mapping = load_pickle(\"./Dataset/Standford/csv_mapping_id.pickle\")\n",
    "ST_wiki_mapping = load_pickle(\"./Dataset/Standford/wiki_mapping_id.pickle\")\n"
   ]
  },
  {
   "cell_type": "code",
   "execution_count": 4,
   "id": "c202162d",
   "metadata": {},
   "outputs": [],
   "source": [
    "def integrate_mapping(target1, target2):\n",
    "    total_mapping =  set(list(target1) + list(target2))\n",
    "    total_mapping = {value : idx for idx, value in enumerate(total_mapping)}\n",
    "    return total_mapping\n"
   ]
  },
  {
   "cell_type": "code",
   "execution_count": 5,
   "id": "403097a8",
   "metadata": {},
   "outputs": [],
   "source": [
    "total_csv_mapping_id = integrate_mapping(Upitt_csv_mapping.keys(), ST_csv_mapping.keys())"
   ]
  },
  {
   "cell_type": "code",
   "execution_count": 6,
   "id": "0e68088b",
   "metadata": {},
   "outputs": [],
   "source": [
    "total_wiki_mapping_id = integrate_mapping(Upitt_wiki_mapping.keys(), ST_wiki_mapping.keys())"
   ]
  },
  {
   "cell_type": "code",
   "execution_count": 7,
   "id": "71cf7046",
   "metadata": {},
   "outputs": [
    {
     "name": "stdout",
     "output_type": "stream",
     "text": [
      "Before_num_wikis = 2657\n",
      "Current_num_wikis = 2512\n",
      "Before_num_csv = 77\n",
      "Current_num_csv = 77\n"
     ]
    }
   ],
   "source": [
    "# rerpot\n",
    "print(f\"Before_num_wikis = {len(Upitt_wiki_mapping) + len(ST_wiki_mapping)}\")\n",
    "print(f\"Current_num_wikis = {len(total_wiki_mapping_id)}\")\n",
    "\n",
    "print(f\"Before_num_csv = {len(Upitt_csv_mapping) + len(ST_csv_mapping)}\")\n",
    "print(f\"Current_num_csv = {len(total_csv_mapping_id)}\")"
   ]
  },
  {
   "cell_type": "code",
   "execution_count": 8,
   "id": "ab435d06",
   "metadata": {},
   "outputs": [],
   "source": [
    "ST_wiki_mapping_r = {v:k for k,v in ST_wiki_mapping.items()}\n",
    "Upitt_wiki_mapping_r = {v:k for k,v in Upitt_wiki_mapping.items()}"
   ]
  },
  {
   "cell_type": "code",
   "execution_count": 9,
   "id": "b771467b",
   "metadata": {},
   "outputs": [],
   "source": [
    "def update_new_csv_id(ST_csv_mapping, ST_wiki_mapping_r, ST_csv2wiki,\n",
    "                      csv_mapping, wiki_mapping):\n",
    "    update_dict = {}\n",
    "    for b_key, b_value in ST_csv_mapping.items():\n",
    "        \n",
    "        # update\n",
    "        new_key_id = csv_mapping[b_key]\n",
    "        b_wikis = ST_csv2wiki[b_value]\n",
    "        new_wikis_id = list(map(lambda x: wiki_mapping[ST_wiki_mapping_r[x]], b_wikis))\n",
    "        \n",
    "        # save\n",
    "        update_dict[new_key_id] = new_wikis_id\n",
    "    \n",
    "    return update_dict"
   ]
  },
  {
   "cell_type": "code",
   "execution_count": 10,
   "id": "f8fe9ff3",
   "metadata": {},
   "outputs": [],
   "source": [
    "new_ST_csv2wiki = update_new_csv_id(ST_csv_mapping, ST_wiki_mapping_r, ST_csv2wiki,\n",
    "                                    total_csv_mapping_id, total_wiki_mapping_id)"
   ]
  },
  {
   "cell_type": "code",
   "execution_count": 11,
   "id": "4127cf33",
   "metadata": {},
   "outputs": [],
   "source": [
    "new_Upitt_csv2wiki = update_new_csv_id(Upitt_csv_mapping, Upitt_wiki_mapping_r, Upitt_csv2wiki,\n",
    "                                       total_csv_mapping_id, total_wiki_mapping_id)"
   ]
  },
  {
   "cell_type": "code",
   "execution_count": 12,
   "id": "78efd579",
   "metadata": {},
   "outputs": [],
   "source": [
    "new_ST_csv2wiki.update(new_Upitt_csv2wiki)\n",
    "total_csv2wiki = new_ST_csv2wiki"
   ]
  },
  {
   "cell_type": "code",
   "execution_count": 13,
   "id": "65d99d0b",
   "metadata": {},
   "outputs": [],
   "source": [
    "def get_new_wiki2csv(new_csv2wiki):\n",
    "    new_wiki2csv = {}\n",
    "    for csv, wikis in new_csv2wiki.items():\n",
    "        for wiki in wikis:\n",
    "            try:\n",
    "                new_wiki2csv[wiki].append(csv)\n",
    "            except:\n",
    "                new_wiki2csv[wiki] = [csv]\n",
    "    return new_wiki2csv"
   ]
  },
  {
   "cell_type": "code",
   "execution_count": 15,
   "id": "95cdd314",
   "metadata": {},
   "outputs": [],
   "source": [
    "total_wiki2csv = get_new_wiki2csv(total_csv2wiki)"
   ]
  },
  {
   "cell_type": "code",
   "execution_count": 16,
   "id": "e006bcdb",
   "metadata": {},
   "outputs": [
    {
     "name": "stdout",
     "output_type": "stream",
     "text": [
      "num_new_csv2wiki = 77\n",
      "num_new_wiki2csv = 2512\n"
     ]
    }
   ],
   "source": [
    "print(f\"num_new_csv2wiki = {len(total_csv2wiki)}\")\n",
    "print(f\"num_new_wiki2csv = {len(total_wiki2csv)}\")"
   ]
  },
  {
   "cell_type": "code",
   "execution_count": 18,
   "id": "08e89d7d",
   "metadata": {},
   "outputs": [],
   "source": [
    "names = [\"total_wiki_mapping_id\",\"total_csv_mapping_id\",\"total_csv2wiki\",\"total_wiki2csv\"]\n",
    "\n",
    "base_path = f'./Dataset/Total'\n",
    "if not os.path.exists(base_path):\n",
    "    os.makedirs(base_path)\n",
    "\n",
    "for name in names:\n",
    "    with open(f'{base_path}/{name[6:]}.pickle','wb') as f:\n",
    "        pickle.dump(eval(name), f, pickle.HIGHEST_PROTOCOL)"
   ]
  },
  {
   "cell_type": "code",
   "execution_count": null,
   "id": "326f69e9",
   "metadata": {},
   "outputs": [],
   "source": []
  }
 ],
 "metadata": {
  "kernelspec": {
   "display_name": "Python 3 (ipykernel)",
   "language": "python",
   "name": "python3"
  },
  "language_info": {
   "codemirror_mode": {
    "name": "ipython",
    "version": 3
   },
   "file_extension": ".py",
   "mimetype": "text/x-python",
   "name": "python",
   "nbconvert_exporter": "python",
   "pygments_lexer": "ipython3",
   "version": "3.9.0"
  }
 },
 "nbformat": 4,
 "nbformat_minor": 5
}
